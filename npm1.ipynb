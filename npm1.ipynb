{
  "nbformat": 4,
  "nbformat_minor": 0,
  "metadata": {
    "kernelspec": {
      "display_name": "Python 3",
      "language": "python",
      "name": "python3"
    },
    "language_info": {
      "codemirror_mode": {
        "name": "ipython",
        "version": 3
      },
      "file_extension": ".py",
      "mimetype": "text/x-python",
      "name": "python",
      "nbconvert_exporter": "python",
      "pygments_lexer": "ipython3",
      "version": "3.8.3"
    },
    "colab": {
      "name": "npm1.ipynb",
      "provenance": []
    }
  },
  "cells": [
    {
      "cell_type": "code",
      "metadata": {
        "id": "9qdHri_tT2f1",
        "colab_type": "code",
        "colab": {}
      },
      "source": [
        "import ast\n",
        "import numpy as np\n",
        "import time\n",
        "import sys\n",
        "import pandas as pd\n",
        "import subprocess\n",
        "import pickle\n",
        "from sklearn.preprocessing import StandardScaler\n",
        "from sklearn.model_selection import train_test_split\n",
        "from sklearn.neural_network import MLPClassifier\n",
        "from sklearn.metrics import confusion_matrix\n",
        "from sklearn.metrics import accuracy_score\n",
        "from sklearn.metrics import roc_auc_score\n",
        "from sklearn.model_selection import validation_curve\n",
        "import random as rand\n",
        "import matplotlib.pyplot as plt"
      ],
      "execution_count": null,
      "outputs": []
    },
    {
      "cell_type": "code",
      "metadata": {
        "id": "XJ_h4fpuUXGt",
        "colab_type": "code",
        "colab": {
          "base_uri": "https://localhost:8080/",
          "height": 35
        },
        "outputId": "45feeb29-0f6f-4520-dad8-64014256902a"
      },
      "source": [
        "# Google Colab\n",
        "%cd \"drive/My Drive/internship-2020\""
      ],
      "execution_count": null,
      "outputs": [
        {
          "output_type": "stream",
          "text": [
            "/content/drive/My Drive/internship-2020\n"
          ],
          "name": "stdout"
        }
      ]
    },
    {
      "cell_type": "code",
      "metadata": {
        "id": "T5wOBrpZ8G_T",
        "colab_type": "code",
        "colab": {
          "base_uri": "https://localhost:8080/",
          "height": 35
        },
        "outputId": "631ee03d-a9df-487d-8a6f-5f154b6210fa"
      },
      "source": [
        "from npm1_data_loading import km_normed_1, npm1_filtered\n",
        "print(km_normed_1.shape)"
      ],
      "execution_count": null,
      "outputs": [
        {
          "output_type": "stream",
          "text": [
            "(691, 1309)\n"
          ],
          "name": "stdout"
        }
      ]
    },
    {
      "cell_type": "code",
      "metadata": {
        "id": "00Zl3dqaT2f6",
        "colab_type": "code",
        "colab": {
          "base_uri": "https://localhost:8080/",
          "height": 54
        },
        "outputId": "1e05e90a-e2f6-4852-e8b5-deb15eb58ce6"
      },
      "source": [
        "%%time\n",
        "from npm1_data_loading import km_normed_1, npm1_filtered\n",
        "classifier = MLPClassifier(hidden_layer_sizes=(512,128,8), \n",
        "                           max_iter=1000, \n",
        "                           activation = 'relu', \n",
        "                           solver='sgd', \n",
        "                           learning_rate='adaptive', \n",
        "                           tol=0, shuffle=True, \n",
        "                           random_state=0, verbose=0\n",
        "                           )\n",
        "x_train, x_test, y_train, y_test = train_test_split(km_normed_1, npm1_filtered, random_state=0)\n",
        "classifier.fit(x_train, y_train)"
      ],
      "execution_count": null,
      "outputs": [
        {
          "output_type": "stream",
          "text": [
            "CPU times: user 1min 37s, sys: 24.1 s, total: 2min 1s\n",
            "Wall time: 1min 1s\n"
          ],
          "name": "stdout"
        }
      ]
    },
    {
      "cell_type": "code",
      "metadata": {
        "id": "hLHBCMRuT2f-",
        "colab_type": "code",
        "colab": {
          "base_uri": "https://localhost:8080/",
          "height": 287
        },
        "outputId": "e01301f9-eb9e-4c22-c861-d5586a0bb176"
      },
      "source": [
        "plt.plot(classifier.loss_curve_)\n",
        "plt.ylim(0, 1)\n",
        "plt.show()\n",
        "y_pred = classifier.predict(x_test)\n",
        "print(roc_auc_score(y_test, y_pred))"
      ],
      "execution_count": null,
      "outputs": [
        {
          "output_type": "display_data",
          "data": {
            "image/png": "[encoded data removed]",
            "text/plain": [
              "<Figure size 432x288 with 1 Axes>"
            ]
          },
          "metadata": {
            "tags": [],
            "needs_background": "light"
          }
        },
        {
          "output_type": "stream",
          "text": [
            "0.984375\n"
          ],
          "name": "stdout"
        }
      ]
    },
    {
      "cell_type": "code",
      "metadata": {
        "id": "i6_E-FtOT2gA",
        "colab_type": "code",
        "colab": {},
        "outputId": "6ad37fd3-dfe2-452d-b3e3-5cd4b7dbc5ba"
      },
      "source": [
        "sum(npm1_filtered), len(npm1_filtered) - sum(npm1_filtered)"
      ],
      "execution_count": null,
      "outputs": [
        {
          "output_type": "execute_result",
          "data": {
            "text/plain": [
              "(242, 449)"
            ]
          },
          "metadata": {
            "tags": []
          },
          "execution_count": 29
        }
      ]
    },
    {
      "cell_type": "code",
      "metadata": {
        "id": "7PNo5f1yAybm",
        "colab_type": "code",
        "colab": {}
      },
      "source": [
        "# Redo with same PyTorch code as other models so we can really verify the efficacy of the splitting and model!"
      ],
      "execution_count": null,
      "outputs": []
    },
    {
      "cell_type": "markdown",
      "metadata": {
        "id": "7juRI2VLVVSv",
        "colab_type": "text"
      },
      "source": [
        "### Data Visualisation"
      ]
    },
    {
      "cell_type": "code",
      "metadata": {
        "id": "w4t_J5E9Way8",
        "colab_type": "code",
        "colab": {}
      },
      "source": [
        "negatives = pd.concat((x_train[np.array(y_train) == 0], x_test[np.array(y_test) == 0]))\n",
        "positives = pd.concat((x_train[np.array(y_train) == 1], x_test[np.array(y_test) == 1]))"
      ],
      "execution_count": null,
      "outputs": []
    },
    {
      "cell_type": "code",
      "metadata": {
        "id": "Kjc_pP1DVU8r",
        "colab_type": "code",
        "colab": {
          "base_uri": "https://localhost:8080/",
          "height": 289
        },
        "outputId": "28ebd914-64b4-4ea0-9889-8adc99bd7cb4"
      },
      "source": [
        "# Median per patient\n",
        "plt.hist(np.mean(negatives,axis=1), bins=25, alpha = 0.5, label='negatives', density=True)\n",
        "plt.hist(np.mean(positives,axis=1), bins=25, alpha = 0.5, label='positives', density=True)\n",
        "plt.show()"
      ],
      "execution_count": null,
      "outputs": [
        {
          "output_type": "display_data",
          "data": {
            "image/png": "[encoded data removed]",
            "text/plain": [
              "<Figure size 432x288 with 1 Axes>"
            ]
          },
          "metadata": {
            "tags": [],
            "needs_background": "light"
          }
        }
      ]
    },
    {
      "cell_type": "code",
      "metadata": {
        "id": "x8ypvIaUVZ1n",
        "colab_type": "code",
        "colab": {}
      },
      "source": [
        "def compare_kmer_plot(i):\n",
        "    print(i)\n",
        "    plt.hist(negatives.iloc[:,i], bins=25, alpha = 0.5, label='negatives', density=True)\n",
        "    plt.hist(positives.iloc[:,i], bins=25, alpha = 0.5, label='positives', density=True)\n",
        "    plt.show()"
      ],
      "execution_count": null,
      "outputs": []
    },
    {
      "cell_type": "code",
      "metadata": {
        "id": "VxO6T6lNXn_p",
        "colab_type": "code",
        "colab": {
          "base_uri": "https://localhost:8080/",
          "height": 1000
        },
        "outputId": "6e75e5a7-877f-4a1f-e2cb-2d13dfb716ff"
      },
      "source": [
        "for i in range(10):\n",
        "    compare_kmer_plot(rand.randrange(0,km_normed_1.shape[1]))"
      ],
      "execution_count": null,
      "outputs": [
        {
          "output_type": "stream",
          "text": [
            "192\n"
          ],
          "name": "stdout"
        },
        {
          "output_type": "display_data",
          "data": {
            "image/png": "[encoded data removed]",
            "text/plain": [
              "<Figure size 432x288 with 1 Axes>"
            ]
          },
          "metadata": {
            "tags": [],
            "needs_background": "light"
          }
        },
        {
          "output_type": "stream",
          "text": [
            "1137\n"
          ],
          "name": "stdout"
        },
        {
          "output_type": "display_data",
          "data": {
            "image/png": "[encoded data removed]",
            "text/plain": [
              "<Figure size 432x288 with 1 Axes>"
            ]
          },
          "metadata": {
            "tags": [],
            "needs_background": "light"
          }
        },
        {
          "output_type": "stream",
          "text": [
            "302\n"
          ],
          "name": "stdout"
        },
        {
          "output_type": "display_data",
          "data": {
            "image/png": "[encoded data removed]",
            "text/plain": [
              "<Figure size 432x288 with 1 Axes>"
            ]
          },
          "metadata": {
            "tags": [],
            "needs_background": "light"
          }
        },
        {
          "output_type": "stream",
          "text": [
            "247\n"
          ],
          "name": "stdout"
        },
        {
          "output_type": "display_data",
          "data": {
            "image/png": "[encoded data removed]",
            "text/plain": [
              "<Figure size 432x288 with 1 Axes>"
            ]
          },
          "metadata": {
            "tags": [],
            "needs_background": "light"
          }
        },
        {
          "output_type": "stream",
          "text": [
            "1090\n"
          ],
          "name": "stdout"
        },
        {
          "output_type": "display_data",
          "data": {
            "image/png": "[encoded data removed]",
            "text/plain": [
              "<Figure size 432x288 with 1 Axes>"
            ]
          },
          "metadata": {
            "tags": [],
            "needs_background": "light"
          }
        },
        {
          "output_type": "stream",
          "text": [
            "1110\n"
          ],
          "name": "stdout"
        },
        {
          "output_type": "display_data",
          "data": {
            "image/png": "[encoded data removed]",
            "text/plain": [
              "<Figure size 432x288 with 1 Axes>"
            ]
          },
          "metadata": {
            "tags": [],
            "needs_background": "light"
          }
        },
        {
          "output_type": "stream",
          "text": [
            "498\n"
          ],
          "name": "stdout"
        },
        {
          "output_type": "display_data",
          "data": {
            "image/png": "[encoded data removed]",
            "text/plain": [
              "<Figure size 432x288 with 1 Axes>"
            ]
          },
          "metadata": {
            "tags": [],
            "needs_background": "light"
          }
        },
        {
          "output_type": "stream",
          "text": [
            "480\n"
          ],
          "name": "stdout"
        },
        {
          "output_type": "display_data",
          "data": {
            "image/png": "[encoded data removed]",
            "text/plain": [
              "<Figure size 432x288 with 1 Axes>"
            ]
          },
          "metadata": {
            "tags": [],
            "needs_background": "light"
          }
        },
        {
          "output_type": "stream",
          "text": [
            "1049\n"
          ],
          "name": "stdout"
        },
        {
          "output_type": "display_data",
          "data": {
            "image/png": "[encoded data removed]",
            "text/plain": [
              "<Figure size 432x288 with 1 Axes>"
            ]
          },
          "metadata": {
            "tags": [],
            "needs_background": "light"
          }
        },
        {
          "output_type": "stream",
          "text": [
            "441\n"
          ],
          "name": "stdout"
        },
        {
          "output_type": "display_data",
          "data": {
            "image/png": "[encoded data removed]",
            "text/plain": [
              "<Figure size 432x288 with 1 Axes>"
            ]
          },
          "metadata": {
            "tags": [],
            "needs_background": "light"
          }
        }
      ]
    },
    {
      "cell_type": "code",
      "metadata": {
        "id": "wdSIMBDpX2yO",
        "colab_type": "code",
        "colab": {}
      },
      "source": [
        "# Difference in means per kmer between positive and negative examples\n",
        "diff_pos_neg = np.abs(np.mean(positives, axis=0) - np.mean(negatives, axis=0))"
      ],
      "execution_count": null,
      "outputs": []
    },
    {
      "cell_type": "code",
      "metadata": {
        "id": "B9n94bwOX9vq",
        "colab_type": "code",
        "colab": {
          "base_uri": "https://localhost:8080/",
          "height": 35
        },
        "outputId": "ec74826d-6849-4253-f9d4-631275f982eb"
      },
      "source": [
        "# Sum of all weights for a single input neuron (kmer)\n",
        "input_weights = classifier.coefs_[0]\n",
        "print(input_weights.shape)\n",
        "sum_weights = np.sum(np.array(input_weights), axis=1)"
      ],
      "execution_count": null,
      "outputs": [
        {
          "output_type": "stream",
          "text": [
            "(1309, 512)\n"
          ],
          "name": "stdout"
        }
      ]
    },
    {
      "cell_type": "code",
      "metadata": {
        "id": "N3ijLbFoX-me",
        "colab_type": "code",
        "colab": {
          "base_uri": "https://localhost:8080/",
          "height": 265
        },
        "outputId": "a4ca951e-6f65-4b85-9453-af20f9905663"
      },
      "source": [
        "plt.hist(sum_weights, bins=50)\n",
        "plt.show()"
      ],
      "execution_count": null,
      "outputs": [
        {
          "output_type": "display_data",
          "data": {
            "image/png": "[encoded data removed]",
            "text/plain": [
              "<Figure size 432x288 with 1 Axes>"
            ]
          },
          "metadata": {
            "tags": [],
            "needs_background": "light"
          }
        }
      ]
    },
    {
      "cell_type": "code",
      "metadata": {
        "id": "SM43v3tfYrG0",
        "colab_type": "code",
        "colab": {
          "base_uri": "https://localhost:8080/",
          "height": 780
        },
        "outputId": "8cd8fb9e-3f6d-49e5-a0f3-8565201fb148"
      },
      "source": [
        "print(np.mean(diff_pos_neg))\n",
        "plt.hist(diff_pos_neg, bins=50)\n",
        "#plt.xlim(0, 2.3)\n",
        "plt.show()\n",
        "plt.hist(diff_pos_neg, bins=50)\n",
        "plt.xlim(0, 2.3)\n",
        "plt.show()\n",
        "plt.plot(sum_weights)\n",
        "plt.plot(diff_pos_neg)\n",
        "plt.show()\n",
        "# do without norm"
      ],
      "execution_count": null,
      "outputs": [
        {
          "output_type": "stream",
          "text": [
            "0.032948461547854184\n"
          ],
          "name": "stdout"
        },
        {
          "output_type": "display_data",
          "data": {
            "image/png": "[encoded data removed]",
            "text/plain": [
              "<Figure size 432x288 with 1 Axes>"
            ]
          },
          "metadata": {
            "tags": [],
            "needs_background": "light"
          }
        },
        {
          "output_type": "display_data",
          "data": {
            "image/png": "[encoded data removed]",
            "text/plain": [
              "<Figure size 432x288 with 1 Axes>"
            ]
          },
          "metadata": {
            "tags": [],
            "needs_background": "light"
          }
        },
        {
          "output_type": "display_data",
          "data": {
            "image/png": "[encoded data removed]",
            "text/plain": [
              "<Figure size 432x288 with 1 Axes>"
            ]
          },
          "metadata": {
            "tags": [],
            "needs_background": "light"
          }
        }
      ]
    }
  ]
}