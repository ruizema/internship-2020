{
 "cells": [
  {
   "cell_type": "code",
   "execution_count": 1,
   "metadata": {},
   "outputs": [],
   "source": [
    "import ast\n",
    "import numpy as np\n",
    "import time\n",
    "import sys\n",
    "import pandas as pd\n",
    "import subprocess\n",
    "import pickle\n",
    "from sklearn.preprocessing import StandardScaler\n",
    "from sklearn.model_selection import train_test_split\n",
    "from sklearn.neural_network import MLPClassifier\n",
    "from sklearn.metrics import confusion_matrix\n",
    "from sklearn.metrics import accuracy_score\n",
    "from sklearn.metrics import roc_auc_score\n",
    "from sklearn.model_selection import validation_curve\n",
    "import random as rand\n",
    "import matplotlib.pyplot as plt"
   ]
  },
  {
   "cell_type": "code",
   "execution_count": 13,
   "metadata": {},
   "outputs": [],
   "source": [
    "from flt3_data_loading import km_normed_1, flt3_filtered\n",
    "x_train, x_test, y_train, y_test = train_test_split(km_normed_1, flt3_filtered, random_state=0)"
   ]
  },
  {
   "cell_type": "code",
   "execution_count": 4,
   "metadata": {},
   "outputs": [
    {
     "name": "stderr",
     "output_type": "stream",
     "text": [
      "/u/maruize/miniconda3/envs/stage2020/lib/python3.8/site-packages/sklearn/neural_network/_multilayer_perceptron.py:582: ConvergenceWarning: Stochastic Optimizer: Maximum iterations (10000) reached and the optimization hasn't converged yet.\n",
      "  warnings.warn(\n"
     ]
    },
    {
     "data": {
      "image/png": "[encoded data removed]",
      "text/plain": [
       "<Figure size 432x288 with 1 Axes>"
      ]
     },
     "metadata": {
      "needs_background": "light"
     },
     "output_type": "display_data"
    },
    {
     "name": "stdout",
     "output_type": "stream",
     "text": [
      "0.5256410256410257\n"
     ]
    }
   ],
   "source": [
    "# lr=0.0001 and 10000 epochs\n",
    "classifier_norm_1 = MLPClassifier(hidden_layer_sizes=(2048,512,128,32,8), \n",
    "                           max_iter=10000, \n",
    "                           activation = 'relu', \n",
    "                           solver='sgd', \n",
    "                           learning_rate='constant',\n",
    "                           learning_rate_init=0.0001,\n",
    "                           tol=0, shuffle=True, \n",
    "                           random_state=3, verbose=0\n",
    "                           #)\n",
    "                           ,early_stopping=True, n_iter_no_change=10000, \n",
    "                           validation_fraction=0.3)\n",
    "classifier_norm_1.fit(km_normed_1, flt3_filtered)\n",
    "plt.plot(classifier_norm_1.loss_curve_)\n",
    "plt.plot(classifier_norm_1.validation_scores_)\n",
    "plt.ylim(0, 1)\n",
    "plt.show()\n",
    "y_pred = classifier_norm_1.predict(x_test)\n",
    "print(roc_auc_score(y_test, y_pred))"
   ]
  }
 ],
 "metadata": {
  "kernelspec": {
   "display_name": "Python 3",
   "language": "python",
   "name": "python3"
  },
  "language_info": {
   "codemirror_mode": {
    "name": "ipython",
    "version": 3
   },
   "file_extension": ".py",
   "mimetype": "text/x-python",
   "name": "python",
   "nbconvert_exporter": "python",
   "pygments_lexer": "ipython3",
   "version": "3.8.3"
  }
 },
 "nbformat": 4,
 "nbformat_minor": 4
}
