{
  "nbformat": 4,
  "nbformat_minor": 0,
  "metadata": {
    "kernelspec": {
      "display_name": "Python 3",
      "language": "python",
      "name": "python3"
    },
    "language_info": {
      "codemirror_mode": {
        "name": "ipython",
        "version": 3
      },
      "file_extension": ".py",
      "mimetype": "text/x-python",
      "name": "python",
      "nbconvert_exporter": "python",
      "pygments_lexer": "ipython3",
      "version": "3.8.3"
    },
    "colab": {
      "name": "assemble_kmer_tables.ipynb",
      "provenance": []
    }
  },
  "cells": [
    {
      "cell_type": "code",
      "metadata": {
        "id": "-02kEbbcKoRw",
        "colab_type": "code",
        "colab": {}
      },
      "source": [
        "import ast\n",
        "import numpy as np\n",
        "import time\n",
        "import sys\n",
        "import pandas as pd\n",
        "import subprocess\n",
        "import pickle\n",
        "import math\n",
        "from collections import Counter"
      ],
      "execution_count": null,
      "outputs": []
    },
    {
      "cell_type": "markdown",
      "metadata": {
        "id": "rxUAIFtoMH7l",
        "colab_type": "text"
      },
      "source": [
        "### Loading preliminary data"
      ]
    },
    {
      "cell_type": "code",
      "metadata": {
        "id": "cIt5RmsFKoR0",
        "colab_type": "code",
        "colab": {}
      },
      "source": [
        "# Loading flt3 kmers\n",
        "with open('data/flt3_kmers', 'rb') as f:\n",
        "    flt3_kmers = pickle.load(f)"
      ],
      "execution_count": null,
      "outputs": []
    },
    {
      "cell_type": "code",
      "metadata": {
        "id": "oOum4l4OMSYU",
        "colab_type": "code",
        "colab": {}
      },
      "source": [
        "# Calculate list of inv16 kmers from MYH11 and CBFB genes\n",
        "with open('data/NM_022844.2.exons.fa') as f:\n",
        "    seq = ''\n",
        "    for line in f.readlines():\n",
        "        if line[0] != '>':\n",
        "            seq += line.strip()\n",
        "k = 31\n",
        "kmer_count = Counter()\n",
        "print(len(seq))\n",
        "for i in range(len(seq)-30):\n",
        "    kmer_count[seq[i:i+k]] += 1\n",
        "myh11_kmers = list(kmer_count.keys())\n",
        "\n",
        "with open('data/NM_001755.3.exons.fa') as f:\n",
        "    seq = ''\n",
        "    for line in f.readlines():\n",
        "        if line[0] != '>':\n",
        "            seq += line.strip()\n",
        "kmer_count = Counter()\n",
        "print(len(seq))\n",
        "for i in range(len(seq)-30):\n",
        "    kmer_count[seq[i:i+k]] += 1\n",
        "cbfb_kmers = list(kmer_count.keys())\n",
        "inv16_kmers = myh11_kmers + cbfb_kmers"
      ],
      "execution_count": null,
      "outputs": []
    },
    {
      "cell_type": "code",
      "metadata": {
        "id": "O3flBKD4Ma6H",
        "colab_type": "code",
        "colab": {}
      },
      "source": [
        "# Calculate list of npm1 kmers from sequence\n",
        "with open('data/NM_001355006.1.exons.fa') as f:\n",
        "    seq = ''\n",
        "    for line in f.readlines():\n",
        "        if line[0] != '>':\n",
        "            seq += line.strip()\n",
        "print(len(seq))\n",
        "npm1_kmers = []\n",
        "k = 31\n",
        "kmer_count = Counter()\n",
        "for i in range(len(seq)-30):\n",
        "    kmer_count[seq[i:i+k]] += 1\n",
        "npm1_kmers = list(kmer_count.keys())"
      ],
      "execution_count": null,
      "outputs": []
    },
    {
      "cell_type": "code",
      "metadata": {
        "id": "Rj5ALmH_KoR3",
        "colab_type": "code",
        "colab": {}
      },
      "source": [
        "# List of all patient IDs\n",
        "with open(\"data/patient_list.txt\") as f:\n",
        "    patient_list = f.read().split()"
      ],
      "execution_count": null,
      "outputs": []
    },
    {
      "cell_type": "markdown",
      "metadata": {
        "id": "UAzZEJY6NFz1",
        "colab_type": "text"
      },
      "source": [
        "### Kmer table preparation"
      ]
    },
    {
      "cell_type": "code",
      "metadata": {
        "id": "MaXUX7LUKoR6",
        "colab_type": "code",
        "colab": {}
      },
      "source": [
        "def kmc_to_str(kmc):\n",
        "    # Converts kmer count 2d array into string of just the kmers, separated by spaces\n",
        "    return str(kmc).replace(',', \"\").replace(\"'\", '')[1:-1]"
      ],
      "execution_count": null,
      "outputs": []
    },
    {
      "cell_type": "code",
      "metadata": {
        "id": "QlcSCggQKoSB",
        "colab_type": "code",
        "colab": {}
      },
      "source": [
        "# Query all patients for specific kmers, and store in DataFrame\n",
        "def query_np(patients, kms):\n",
        "    global kmer_table\n",
        "    global start_i\n",
        "    global num_kmers\n",
        "    i = start_i\n",
        "    if i != 0:\n",
        "        print(f\"Restarting at patient #{i+1}\")\n",
        "    BUFFER_SIZE = 5\n",
        "    buffer = np.zeros((BUFFER_SIZE, num_kmers+1))\n",
        "    for p in patients[start_i:]:\n",
        "        jf = f\"/u/leucegene/data/sample/{p}/transcriptome/jellyfish/2.2.3/kmers.k31.CL2.jf\"\n",
        "        n = 0\n",
        "        output = \"\"\n",
        "        for n in range(math.ceil(num_kmers/100)):\n",
        "            kms_subset = kmc_to_str(kms[n*100:(n+1)*100])\n",
        "            cmd = f\"jellyfish query {jf} {kms_subset}\"\n",
        "            output = output + subprocess.getoutput(cmd) + '\\n'\n",
        "        j = 0\n",
        "        for line in output[:-1].splitlines():\n",
        "            km, cnt = line.split()\n",
        "            buffer[i%BUFFER_SIZE,j] = int(cnt)\n",
        "            j += 1\n",
        "        buffer[i%BUFFER_SIZE,-1] = -1 # Indicates that this line has been queried\n",
        "        i += 1\n",
        "        timestamp = time.strftime(\"%H:%M:%S\", time.localtime())\n",
        "        print(f\"\\r{timestamp}: Queried patient #{i} ({p})...\", end='')\n",
        "        if i % BUFFER_SIZE == 0 or i == kmer_table.shape[0]:\n",
        "            # Dump buffer\n",
        "            buffer = np.delete(buffer, np.where(buffer[:,-1] == 0), axis=0)\n",
        "            kmer_table.iloc[i-buffer.shape[0]:i] = buffer\n",
        "            buffer = np.zeros((BUFFER_SIZE, num_kmers+1))\n",
        "            print(f\"Dumped buffer after patient #{i} ({p})!\")\n",
        "            start_i = i\n",
        "        if i % (BUFFER_SIZE*2) == 0 or i == kmer_table.shape[0]:\n",
        "            # Backup to disk\n",
        "            with open('data/temp_kmer_table.py', 'wb') as f:\n",
        "                pickle.dump(kmer_table, f)\n",
        "            print(f\"Backed up to disk after patient #{i} ({p})...\")"
      ],
      "execution_count": null,
      "outputs": []
    },
    {
      "cell_type": "code",
      "metadata": {
        "id": "s7AgcYK9P0Vk",
        "colab_type": "code",
        "colab": {}
      },
      "source": [
        "# if data fetching was paused, resume by loading saved kmer_table\n",
        "def resume():\n",
        "    with open('data/temp_kmer_table.py', 'rb') as f:\n",
        "        kmer_table = pickle.load(f)\n",
        "    start_i = int(kmer_table.iloc[:,-1].idxmax())\n",
        "    if int(kmer_table.iloc[-1,-1]) == -1:\n",
        "        start_i = kmer_table.shape[0]"
      ],
      "execution_count": null,
      "outputs": []
    },
    {
      "cell_type": "code",
      "metadata": {
        "id": "RhV_pJJyNeyQ",
        "colab_type": "code",
        "colab": {}
      },
      "source": [
        "def fetch_data(kmers, output_name):\n",
        "    global kmer_table\n",
        "    global start_i\n",
        "    global num_kmers\n",
        "\n",
        "    start_i = 0\n",
        "    num_kmers = len(kmers)\n",
        "    kmer_table = pd.DataFrame(np.zeros((len(patient_list), num_kmers+1)))\n",
        "\n",
        "    query_np(patient_list, kmers)\n",
        "    if int(kmer_table.iloc[-1,-1]) == -1:\n",
        "        print(\"Done querying!\")\n",
        "\n",
        "    # Processing & export finished data\n",
        "    kmer_table.columns = [f\"km_{i}\" for i in range(num_kmers)] + [\"queried\"]\n",
        "    export = kmer_table.drop(\"queried\", axis=1)\n",
        "    with open(f\"data/{output_name}\", 'wb') as f:\n",
        "        pickle.dump(export, f)"
      ],
      "execution_count": null,
      "outputs": []
    },
    {
      "cell_type": "markdown",
      "metadata": {
        "id": "K6tlOAyZNfx0",
        "colab_type": "text"
      },
      "source": [
        "### Fetching data into kmer tables"
      ]
    },
    {
      "cell_type": "code",
      "metadata": {
        "id": "fYQShFo2PrVO",
        "colab_type": "code",
        "colab": {}
      },
      "source": [
        "fetch_data(flt3_kmers, 'km_table_flt3.py')\n",
        "fetch_data(inv16_kmers, 'km_table_inv16.py')\n",
        "fetch_data(npm1_kmers, 'km_table_npm1.py')"
      ],
      "execution_count": null,
      "outputs": []
    }
  ]
}