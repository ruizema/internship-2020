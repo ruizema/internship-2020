{
 "cells": [
  {
   "cell_type": "code",
   "execution_count": 1,
   "metadata": {},
   "outputs": [],
   "source": [
    "import ast\n",
    "import numpy as np\n",
    "import time\n",
    "import sys\n",
    "import pandas as pd\n",
    "import subprocess\n",
    "import pickle\n",
    "import math"
   ]
  },
  {
   "cell_type": "code",
   "execution_count": null,
   "metadata": {},
   "outputs": [],
   "source": [
    "with open('data/flt3_kmers', 'rb') as f:\n",
    "    flt3_kmers = pickle.load(f)\n",
    "print(flt3_kmers)"
   ]
  },
  {
   "cell_type": "code",
   "execution_count": null,
   "metadata": {},
   "outputs": [],
   "source": [
    "# Read files for list of all patient ids and list of kmers\n",
    "with open(\"data/patient_list.txt\") as f:\n",
    "    patient_list = f.read().split()\n",
    "\n",
    "with open('data/flt3_kmers', 'rb') as f:\n",
    "    flt3_kmers = pickle.load(f)"
   ]
  },
  {
   "cell_type": "code",
   "execution_count": 3,
   "metadata": {},
   "outputs": [],
   "source": [
    "def kmc_to_str(kmc):\n",
    "    # Converts kmer count 2d array into string of just the kmers, separated by spaces\n",
    "    return str(kmc).replace(',', \"\").replace(\"'\", '')[1:-1]\n",
    "kms_str = kmc_to_str(flt3_kmers)"
   ]
  },
  {
   "cell_type": "code",
   "execution_count": 4,
   "metadata": {},
   "outputs": [],
   "source": [
    "start_i = 0\n",
    "num_kmers = len(flt3_kmers)\n",
    "kmer_table = pd.DataFrame(np.zeros((len(patient_list), num_kmers+1)))"
   ]
  },
  {
   "cell_type": "code",
   "execution_count": 11,
   "metadata": {},
   "outputs": [],
   "source": [
    "# Loading saved kmer_table\n",
    "with open('data/temp_kmer_table.py', 'rb') as f:\n",
    "    kmer_table = pickle.load(f)\n",
    "start_i = int(kmer_table.iloc[:,-1].idxmax())\n",
    "if int(kmer_table.iloc[-1,-1]) == -1:\n",
    "    start_i = kmer_table.shape[0]"
   ]
  },
  {
   "cell_type": "code",
   "execution_count": 6,
   "metadata": {},
   "outputs": [],
   "source": [
    "# Query all patients for specific kmers, but store in DataFrame\n",
    "def query_np(patients, kms):\n",
    "    global kmer_table\n",
    "    global start_i\n",
    "    global num_kmers\n",
    "    i = start_i\n",
    "    if i != 0:\n",
    "        print(f\"Restarting at patient #{i+1}\")\n",
    "    BUFFER_SIZE = 5\n",
    "    buffer = np.zeros((BUFFER_SIZE, num_kmers+1))\n",
    "    for p in patients[start_i:]:\n",
    "        jf = f\"/u/leucegene/data/sample/{p}/transcriptome/jellyfish/2.2.3/kmers.k31.CL2.jf\"\n",
    "        n = 0\n",
    "        output = \"\"\n",
    "        for n in range(math.ceil(num_kmers/100)):\n",
    "            kms_subset = kmc_to_str(flt3_kmers[n*100:(n+1)*100])\n",
    "            cmd = f\"jellyfish query {jf} {kms_subset}\"\n",
    "            output = output + subprocess.getoutput(cmd) + '\\n'\n",
    "        j = 0\n",
    "        for line in output[:-1].splitlines():\n",
    "            km, cnt = line.split()\n",
    "            buffer[i%BUFFER_SIZE,j] = int(cnt)\n",
    "            j += 1\n",
    "        buffer[i%BUFFER_SIZE,-1] = -1 # Indicates that this line has been queried\n",
    "        i += 1\n",
    "        timestamp = time.strftime(\"%H:%M:%S\", time.localtime())\n",
    "        print(f\"{timestamp}: Queried patient #{i} ({p})...\")\n",
    "        if i % BUFFER_SIZE == 0 or i == kmer_table.shape[0]:\n",
    "            # Dump buffer\n",
    "            buffer = np.delete(buffer, np.where(buffer[:,-1] == 0), axis=0)\n",
    "            kmer_table.iloc[i-buffer.shape[0]:i] = buffer\n",
    "            buffer = np.zeros((BUFFER_SIZE, num_kmers+1))\n",
    "            print(f\"Dumped buffer after patient #{i} ({p})!\")\n",
    "            start_i = i\n",
    "        if i % (BUFFER_SIZE*2) == 0 or i == kmer_table.shape[0]:\n",
    "            # Backup to disk\n",
    "            with open('data/temp_kmer_table.py', 'wb') as f:\n",
    "                pickle.dump(kmer_table, f)\n",
    "            print(f\"Backed up to disk after patient #{i} ({p})...\")"
   ]
  },
  {
   "cell_type": "code",
   "execution_count": 13,
   "metadata": {},
   "outputs": [
    {
     "name": "stdout",
     "output_type": "stream",
     "text": [
      "Restarting at patient #692\n",
      "Done querying!\n"
     ]
    }
   ],
   "source": [
    "# For each patient, extract kmer counts and put it in a DataFrame\n",
    "query_np(patient_list, kms_str)\n",
    "if int(kmer_table.iloc[-1,-1]) == -1:\n",
    "    print(\"Done querying!\")"
   ]
  },
  {
   "cell_type": "code",
   "execution_count": 16,
   "metadata": {},
   "outputs": [],
   "source": [
    "# Processing & export finished data\n",
    "kmer_table.columns = [f\"km_{i}\" for i in range(num_kmers)] + [\"queried\"]\n",
    "export = kmer_table.drop(\"queried\", axis=1)\n",
    "with open('data/km_table_1.py', 'wb') as f:\n",
    "    pickle.dump(export, f)"
   ]
  },
  {
   "cell_type": "code",
   "execution_count": 18,
   "metadata": {},
   "outputs": [
    {
     "data": {
      "text/plain": [
       "(691, 3797)"
      ]
     },
     "execution_count": 18,
     "metadata": {},
     "output_type": "execute_result"
    }
   ],
   "source": [
    "kmer_table.shape"
   ]
  }
 ],
 "metadata": {
  "kernelspec": {
   "display_name": "Python 3",
   "language": "python",
   "name": "python3"
  },
  "language_info": {
   "codemirror_mode": {
    "name": "ipython",
    "version": 3
   },
   "file_extension": ".py",
   "mimetype": "text/x-python",
   "name": "python",
   "nbconvert_exporter": "python",
   "pygments_lexer": "ipython3",
   "version": "3.8.3"
  }
 },
 "nbformat": 4,
 "nbformat_minor": 4
}
