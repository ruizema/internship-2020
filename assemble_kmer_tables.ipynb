{
 "cells": [
  {
   "cell_type": "code",
   "execution_count": 74,
   "metadata": {},
   "outputs": [],
   "source": [
    "import ast\n",
    "import subprocess\n",
    "import numpy as np\n",
    "import time\n",
    "import sys"
   ]
  },
  {
   "cell_type": "code",
   "execution_count": 49,
   "metadata": {},
   "outputs": [],
   "source": [
    "# Read files for list of all patient ids and list of kmers\n",
    "with open(\"data/patient_list.txt\") as f:\n",
    "    patient_list = f.read().split()\n",
    "\n",
    "with open('data/1000_most_common_kmers.py', 'r') as f:\n",
    "    most_common = ast.literal_eval(f.read())\n",
    "temp = []\n",
    "for kmc in most_common:\n",
    "    temp.append(kmc[0])\n",
    "kms_str = str(temp).replace(',', \"\").replace(\"'\", '')[1:-1]"
   ]
  },
  {
   "cell_type": "code",
   "execution_count": 50,
   "metadata": {},
   "outputs": [],
   "source": [
    "start_i = 0\n",
    "kmer_table = np.zeros((len(patient_list), 1000))"
   ]
  },
  {
   "cell_type": "code",
   "execution_count": 65,
   "metadata": {},
   "outputs": [],
   "source": [
    "# Query all patients for specific kmers, but store in nparray\n",
    "def query_np(patients, kms):\n",
    "    global kmer_table\n",
    "    global start_i\n",
    "    i = start_i\n",
    "    n = 0 # kill after 20 iterations\n",
    "    if i != 0:\n",
    "        print(f\"Restarting at patient #{i}\")\n",
    "    buffer = np.zeros((5, 1000))\n",
    "    for p in patients:\n",
    "        jf = f\"/u/leucegene/data/rnaseq/jellyfish/EXT001/{p}/2.2.3/kmers.k31.CL2.jf\"\n",
    "        cmd = f\"jellyfish query {jf} {kms}\"\n",
    "        output = subprocess.check_output(cmd, shell=True).decode(\"utf-8\")\n",
    "        j = 0\n",
    "        for line in output.splitlines():\n",
    "            km, cnt = line.split()\n",
    "            buffer[i%5,j] = int(cnt)\n",
    "            j += 1\n",
    "        i += 1\n",
    "        if i % 1 == 0:\n",
    "            timestamp = time.strftime(\"%H:%M:%S\", time.localtime())\n",
    "            print(f\"{timestamp}: Queried patient #{i}...\")\n",
    "        if i % 5 == 0:\n",
    "            # Dump buffer\n",
    "            for k in range(5):\n",
    "                kmer_table[i-k-1,:] = buffer[-k-1,:]\n",
    "            buffer = np.zeros((5, 1000))\n",
    "            print(f\"Dumped buffer after patient {i}!\")\n",
    "            start_i = i\n",
    "        n += 1\n",
    "        if n >= 20:\n",
    "            return"
   ]
  },
  {
   "cell_type": "code",
   "execution_count": 67,
   "metadata": {},
   "outputs": [
    {
     "name": "stdout",
     "output_type": "stream",
     "text": [
      "Done querying!\n"
     ]
    }
   ],
   "source": [
    "# For each patient, extract kmer counts and put it in a nparray\n",
    "while start_i < 260:\n",
    "    query_np(patient_list, kms_str)\n",
    "print(\"Done querying!\")"
   ]
  },
  {
   "cell_type": "code",
   "execution_count": 80,
   "metadata": {},
   "outputs": [
    {
     "name": "stdout",
     "output_type": "stream",
     "text": [
      "(260, 1000)\n",
      "2.08 MB\n"
     ]
    }
   ],
   "source": [
    "# Save kmer table to file\n",
    "print(kmer_table.shape)\n",
    "print(f\"{sys.getsizeof(kmer_table) / 1e6:.3} MB\")\n",
    "np.save(\"data/kmer_table\", kmer_table)"
   ]
  },
  {
   "cell_type": "code",
   "execution_count": 87,
   "metadata": {},
   "outputs": [
    {
     "name": "stdout",
     "output_type": "stream",
     "text": [
      "(260, 1000)\n",
      "2.08 MB\n"
     ]
    }
   ],
   "source": [
    "# Loading kmer table from file\n",
    "test = np.load(\"data/kmer_table.npy\")\n",
    "print(test.shape)\n",
    "print(f\"{sys.getsizeof(test) / 1e6:.3} MB\")"
   ]
  }
 ],
 "metadata": {
  "kernelspec": {
   "display_name": "Python 3",
   "language": "python",
   "name": "python3"
  },
  "language_info": {
   "codemirror_mode": {
    "name": "ipython",
    "version": 3
   },
   "file_extension": ".py",
   "mimetype": "text/x-python",
   "name": "python",
   "nbconvert_exporter": "python",
   "pygments_lexer": "ipython3",
   "version": "3.8.3"
  }
 },
 "nbformat": 4,
 "nbformat_minor": 4
}
