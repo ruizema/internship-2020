{
  "nbformat": 4,
  "nbformat_minor": 0,
  "metadata": {
    "kernelspec": {
      "display_name": "Python 3",
      "language": "python",
      "name": "python3"
    },
    "language_info": {
      "codemirror_mode": {
        "name": "ipython",
        "version": 3
      },
      "file_extension": ".py",
      "mimetype": "text/x-python",
      "name": "python",
      "nbconvert_exporter": "python",
      "pygments_lexer": "ipython3",
      "version": "3.7.6"
    },
    "colab": {
      "name": "inv(16).ipynb",
      "provenance": []
    },
    "accelerator": "GPU"
  },
  "cells": [
    {
      "cell_type": "code",
      "metadata": {
        "id": "7X87nEpbnwI8",
        "colab_type": "code",
        "colab": {}
      },
      "source": [
        "import ast\n",
        "import numpy as np\n",
        "import time\n",
        "import sys\n",
        "import pandas as pd\n",
        "import subprocess\n",
        "import pickle\n",
        "import random as rand\n",
        "import matplotlib.pyplot as plt\n",
        "import time\n",
        "import math\n",
        "import torch\n",
        "from torch.utils.data.sampler import SubsetRandomSampler\n",
        "import torch.nn as nn\n",
        "import torch.nn.functional as F"
      ],
      "execution_count": 1,
      "outputs": []
    },
    {
      "cell_type": "code",
      "metadata": {
        "id": "pDhN1Y32nwJC",
        "colab_type": "code",
        "colab": {
          "base_uri": "https://localhost:8080/",
          "height": 35
        },
        "outputId": "7d5156b7-a3d6-4c59-d8e9-502f67ab56cf"
      },
      "source": [
        "ratio = len(inv_16) - sum(inv_16), sum(inv_16)\n",
        "print(ratio)"
      ],
      "execution_count": 7,
      "outputs": [
        {
          "output_type": "stream",
          "text": [
            "(659, 32)\n"
          ],
          "name": "stdout"
        }
      ]
    },
    {
      "cell_type": "code",
      "metadata": {
        "id": "9ud80QMC4-S9",
        "colab_type": "code",
        "colab": {}
      },
      "source": [
        "# Simplified rewrite of splitting & oversampling code\n",
        "from inv16_data_loading import km_normed_1, inv_16\n",
        "\n",
        "# Test split sizes (add up to 1)\n",
        "train_size = 0.6\n",
        "valid_size = 0.2\n",
        "test_size = 0.2\n",
        "\n",
        "# Separating out negatives & positives\n",
        "negatives = []\n",
        "positives = []\n",
        "for pat_i in range(len(km_normed_1)):\n",
        "    if inv_16[pat_i] == 1:\n",
        "        if len(positives) == 0:\n",
        "            positives = np.concatenate((positives, np.array(km_normed_1.iloc[pat_i])))\n",
        "        else:\n",
        "            positives = np.vstack((positives, np.array(km_normed_1.iloc[pat_i])))\n",
        "    elif inv_16[pat_i] == 0:\n",
        "        if len(negatives) == 0:\n",
        "            negatives = np.concatenate((negatives, np.array(km_normed_1.iloc[pat_i])))\n",
        "        else:\n",
        "            negatives = np.vstack((negatives, np.array(km_normed_1.iloc[pat_i])))\n",
        "\n",
        "# Splitting sets\n",
        "num_pos = len(positives)\n",
        "num_neg = len(negatives)\n",
        "sum_sizes = train_size + valid_size + test_size\n",
        "ps1, ps2 = math.floor(train_size*num_pos), math.floor((train_size+valid_size)*num_pos)\n",
        "ns1, ns2 = math.floor(train_size*num_neg), math.floor((train_size+valid_size)*num_neg)\n",
        "train_set = np.concatenate((negatives[:ns1], positives[:ps1]))\n",
        "valid_set = np.concatenate((negatives[ns1:ns2], positives[ps1:ps2]))\n",
        "test_set = np.concatenate((negatives[ns2:], positives[ps2:]))\n",
        "n_neg_train, n_neg_val, n_neg_test = ns1, (ns2-ns1), (num_neg-ns2)\n",
        "n_pos_train, n_pos_val, n_pos_test = ps1, (ps2-ps1), (num_pos-ps2)\n",
        "train_label = [0] * n_neg_train + [1] * n_pos_train\n",
        "valid_label = [0] * n_neg_val + [1] * n_pos_val\n",
        "test_label = [0] * n_neg_test + [1] * n_pos_test\n",
        "\n",
        "# Oversample each set\n",
        "n_extra_pos_train, n_extra_pos_val, n_extra_pos_test = n_neg_train-n_pos_train, n_neg_val-n_pos_val, n_neg_test-n_pos_test\n",
        "over_train = np.array([]).reshape((0,9995))\n",
        "over_valid = np.array([]).reshape((0,9995))\n",
        "over_test = np.array([]).reshape((0,9995))\n",
        "i,j,k = 0,0,0\n",
        "while len(over_train) < n_extra_pos_train:\n",
        "    over_train = np.concatenate((over_train, train_set[n_neg_train + i % n_pos_train].reshape(1,9995)))\n",
        "    train_label += [1]\n",
        "    i += 1\n",
        "while len(over_valid) < n_extra_pos_val:\n",
        "    over_valid = np.concatenate((over_valid, valid_set[n_neg_val + j % n_pos_val].reshape(1,9995)))\n",
        "    valid_label += [1]\n",
        "    j += 1\n",
        "while len(over_test) < n_extra_pos_test:\n",
        "    over_test = np.concatenate((over_test, test_set[n_neg_test + k % n_pos_test].reshape(1,9995)))\n",
        "    test_label += [1]\n",
        "    k += 1\n",
        "oc_train_set = np.concatenate((train_set, over_train))\n",
        "oc_valid_set = np.concatenate((valid_set, over_valid))\n",
        "oc_test_set = np.concatenate((test_set, over_test))\n",
        "train_and_label = [(oc_train_set[i],train_label[i]) for i in range(len(train_label))]\n",
        "valid_and_label = [(oc_valid_set[i],valid_label[i]) for i in range(len(valid_label))]\n",
        "test_and_label = [(oc_test_set[i],test_label[i]) for i in range(len(test_label))]\n",
        "\n",
        "# Data samplers & loaders\n",
        "batch_size = 64\n",
        "num_workers = 0\n",
        "train_sampler = SubsetRandomSampler(range(len(train_and_label)))\n",
        "valid_sampler = SubsetRandomSampler(range(len(valid_and_label)))\n",
        "test_sampler = SubsetRandomSampler(range(len(test_and_label)))\n",
        "train_loader = torch.utils.data.DataLoader(train_and_label,\n",
        "                                           batch_size=batch_size,\n",
        "                                           sampler=train_sampler,\n",
        "                                           num_workers=num_workers)\n",
        "valid_loader = torch.utils.data.DataLoader(valid_and_label,\n",
        "                                           batch_size=batch_size,\n",
        "                                           sampler=valid_sampler,\n",
        "                                           num_workers=num_workers)\n",
        "test_loader = torch.utils.data.DataLoader(test_and_label,\n",
        "                                           batch_size=batch_size,\n",
        "                                           sampler=test_sampler,\n",
        "                                           num_workers=num_workers)"
      ],
      "execution_count": 38,
      "outputs": []
    },
    {
      "cell_type": "code",
      "metadata": {
        "id": "wNVMt6SI-JIZ",
        "colab_type": "code",
        "colab": {
          "base_uri": "https://localhost:8080/",
          "height": 145
        },
        "outputId": "91dd3f24-ab62-462e-c12c-3da1cf14f1ad"
      },
      "source": [
        "print(train_set.shape)\n",
        "print(valid_set.shape)\n",
        "print(test_set.shape)\n",
        "print(ns1, ns2, ps1, ps2)\n",
        "print(len(train_label), len(valid_label), len(test_label))\n",
        "print(train_label[ns1])"
      ],
      "execution_count": 44,
      "outputs": [
        {
          "output_type": "stream",
          "text": [
            "(414, 9995)\n",
            "(138, 9995)\n",
            "(139, 9995)\n",
            "395 527 19 25\n",
            "790 264 264\n",
            "1\n"
          ],
          "name": "stdout"
        },
        {
          "output_type": "execute_result",
          "data": {
            "text/plain": [
              "<torch.utils.data.sampler.SubsetRandomSampler at 0x7f851f1b1f60>"
            ]
          },
          "metadata": {
            "tags": []
          },
          "execution_count": 44
        }
      ]
    },
    {
      "cell_type": "markdown",
      "metadata": {
        "id": "l1B6JaaC7v-N",
        "colab_type": "text"
      },
      "source": [
        "### Checking that sets are separate\n",
        "\n"
      ]
    },
    {
      "cell_type": "code",
      "metadata": {
        "id": "LpTA1H8WWGaT",
        "colab_type": "code",
        "colab": {}
      },
      "source": [
        "tag = []\n",
        "for pat in data:\n",
        "    tag.append(pat[0][-1])\n",
        "from collections import Counter\n",
        "counter = Counter()\n",
        "for t in tag:\n",
        "    counter[t] += 1"
      ],
      "execution_count": 51,
      "outputs": []
    },
    {
      "cell_type": "code",
      "metadata": {
        "id": "uQYAQVLEW5UU",
        "colab_type": "code",
        "colab": {
          "base_uri": "https://localhost:8080/",
          "height": 72
        },
        "outputId": "1bb526b9-00ce-4c60-c057-6823c5d8c647"
      },
      "source": [
        "t_set, v_set = set(), set()\n",
        "for ti in train_idx:\n",
        "    t_set.add(int(tag[ti]))\n",
        "for vi in valid_idx:\n",
        "    v_set.add(int(tag[vi]))\n",
        "print(t_set.intersection(v_set))\n",
        "print(len(t_set))\n",
        "print(len(v_set))"
      ],
      "execution_count": 75,
      "outputs": [
        {
          "output_type": "stream",
          "text": [
            "set()\n",
            "552\n",
            "139\n"
          ],
          "name": "stdout"
        }
      ]
    },
    {
      "cell_type": "code",
      "metadata": {
        "id": "42SjRg-9axpf",
        "colab_type": "code",
        "colab": {
          "base_uri": "https://localhost:8080/",
          "height": 72
        },
        "outputId": "13f778ee-f071-4e00-fd73-70e978ebc937"
      },
      "source": [
        "t_set, v_set = set(), set()\n",
        "for d, t in train_loader:\n",
        "    for line in d:\n",
        "        t_set.add(int(line[-1]))\n",
        "for d, t in valid_loader:\n",
        "    for line in d:\n",
        "        v_set.add(int(line[-1]))\n",
        "print(t_set.intersection(v_set))\n",
        "print(len(t_set))\n",
        "print(len(v_set))"
      ],
      "execution_count": 82,
      "outputs": [
        {
          "output_type": "stream",
          "text": [
            "set()\n",
            "552\n",
            "139\n"
          ],
          "name": "stdout"
        }
      ]
    },
    {
      "cell_type": "code",
      "metadata": {
        "id": "QGJoLs1tYkt1",
        "colab_type": "code",
        "colab": {}
      },
      "source": [
        "np.array(sorted(list(t_set))) == np.array(sorted(list(train_idx)[:552]))"
      ],
      "execution_count": null,
      "outputs": []
    },
    {
      "cell_type": "code",
      "metadata": {
        "id": "4JFL8CV9ZAJ3",
        "colab_type": "code",
        "colab": {
          "base_uri": "https://localhost:8080/",
          "height": 35
        },
        "outputId": "b8b50ef2-e8d8-4de1-d8d5-98e1f74f53fd"
      },
      "source": [
        "len(valid_idx)"
      ],
      "execution_count": 64,
      "outputs": [
        {
          "output_type": "execute_result",
          "data": {
            "text/plain": [
              "264"
            ]
          },
          "metadata": {
            "tags": []
          },
          "execution_count": 64
        }
      ]
    },
    {
      "cell_type": "code",
      "metadata": {
        "id": "ylP_6R3J72iQ",
        "colab_type": "code",
        "colab": {
          "base_uri": "https://localhost:8080/",
          "height": 54
        },
        "outputId": "e13ade33-85d1-4885-d7f7-e07a74c3be4d"
      },
      "source": [
        "print(len(train_idx), len(valid_idx))\n",
        "print(sum(oc_inv_16) / len(oc_inv_16))"
      ],
      "execution_count": 5,
      "outputs": [
        {
          "output_type": "stream",
          "text": [
            "1054 264\n",
            "0.5\n"
          ],
          "name": "stdout"
        }
      ]
    },
    {
      "cell_type": "code",
      "metadata": {
        "id": "7HjYPlwgLLXh",
        "colab_type": "code",
        "colab": {
          "base_uri": "https://localhost:8080/",
          "height": 126
        },
        "outputId": "29aaff95-96c0-4d3a-89df-0598c2794c27"
      },
      "source": [
        "# Ensuring separate sets\n",
        "print(set(pos_train).intersection(set(pos_val)))\n",
        "print(set(neg_train).intersection(set(neg_val)))\n",
        "print(set(pos_train).intersection(set(neg_val)))\n",
        "print(set(pos_train).intersection(set(neg_train)))\n",
        "print(set(pos_val).intersection(set(neg_val)))\n",
        "print(set([1, 2, 3, 4, 5]).intersection(set([0, 3, 6, 7, 1])))"
      ],
      "execution_count": 6,
      "outputs": [
        {
          "output_type": "stream",
          "text": [
            "set()\n",
            "set()\n",
            "set()\n",
            "set()\n",
            "set()\n",
            "{1, 3}\n"
          ],
          "name": "stdout"
        }
      ]
    },
    {
      "cell_type": "markdown",
      "metadata": {
        "id": "5CAr_Vpi8AXQ",
        "colab_type": "text"
      },
      "source": [
        "### Debugging"
      ]
    },
    {
      "cell_type": "code",
      "metadata": {
        "id": "o1KOpCKcnwJM",
        "colab_type": "code",
        "colab": {
          "base_uri": "https://localhost:8080/",
          "height": 35
        },
        "outputId": "a8d4323e-00d8-4c65-b311-317720f0fcae"
      },
      "source": [
        "torch.cuda.is_available()"
      ],
      "execution_count": 8,
      "outputs": [
        {
          "output_type": "execute_result",
          "data": {
            "text/plain": [
              "True"
            ]
          },
          "metadata": {
            "tags": []
          },
          "execution_count": 8
        }
      ]
    },
    {
      "cell_type": "code",
      "metadata": {
        "id": "0FKMsjySamUa",
        "colab_type": "code",
        "colab": {}
      },
      "source": [
        "def remove_tag(data, s):\n",
        "    # taking out tag\n",
        "    print(f\"New {s} batch!\")\n",
        "    tags = [chr(i) for i in data[:,-1]]\n",
        "    print(\" \".join(tags))\n",
        "    return data[:,:-1]"
      ],
      "execution_count": 24,
      "outputs": []
    },
    {
      "cell_type": "code",
      "metadata": {
        "id": "wOXIyaFAqWKr",
        "colab_type": "code",
        "colab": {
          "base_uri": "https://localhost:8080/",
          "height": 35
        },
        "outputId": "593a607b-fa9d-4d10-925a-beec7a4fca51"
      },
      "source": [
        "%pdb"
      ],
      "execution_count": 29,
      "outputs": [
        {
          "output_type": "stream",
          "text": [
            "Automatic pdb calling has been turned OFF\n"
          ],
          "name": "stdout"
        }
      ]
    },
    {
      "cell_type": "markdown",
      "metadata": {
        "id": "guiP2WXN740I",
        "colab_type": "text"
      },
      "source": [
        "### Running model"
      ]
    },
    {
      "cell_type": "code",
      "metadata": {
        "id": "nlxViMjTsYVP",
        "colab_type": "code",
        "colab": {}
      },
      "source": [
        "if torch.cuda.is_available():  \n",
        "    dev = \"cuda:0\" \n",
        "else:  \n",
        "    dev = \"cpu\"\n",
        "device = torch.device(dev)\n",
        "\n",
        "# 4 layers sgd lr=0.01 and no dropout\n",
        "class Net(nn.Module):\n",
        "    def __init__(self):\n",
        "        super(Net, self).__init__()\n",
        "        self.fc1 = nn.Linear(km_normed_1.shape[1], 512)\n",
        "        self.fc2 = nn.Linear(512, 128)\n",
        "        self.fc3 = nn.Linear(128, 32)\n",
        "        self.fc4 = nn.Linear(32, 8)\n",
        "        self.fc5 = nn.Linear(8, 2)\n",
        "        #self.dropout = nn.Dropout(0.2)\n",
        "    \n",
        "    def forward(self, x):\n",
        "        x = F.relu(self.fc1(x))\n",
        "        #x = self.dropout(x)\n",
        "        x = F.relu(self.fc2(x))\n",
        "        #x = self.dropout(x)\n",
        "        x = F.relu(self.fc3(x))\n",
        "        #x = self.dropout(x)\n",
        "        x = F.relu(self.fc4(x))\n",
        "        #x = self.dropout(x)\n",
        "        x = self.fc5(x)\n",
        "        return x\n",
        "    \n",
        "    def predict(self,x):\n",
        "        pred = F.softmax(self.forward(x), dim=1)\n",
        "        ans = []\n",
        "        for t in pred:\n",
        "            if t[0]>t[1]:\n",
        "                ans.append(0)\n",
        "            else:\n",
        "                ans.append(1)\n",
        "        return torch.tensor(ans)\n",
        "\n",
        "n_epochs = 100\n",
        "valid_loss_min = np.Inf\n",
        "t_losses = []\n",
        "v_losses = []\n",
        "\n",
        "model = Net()\n",
        "model.to(device)\n",
        "criterion = nn.CrossEntropyLoss()\n",
        "optimizer = torch.optim.SGD(model.parameters(), lr=0.01)\n",
        "\n",
        "for epoch in range(n_epochs):\n",
        "    train_loss = 0.0\n",
        "    valid_loss = 0.0\n",
        "    \n",
        "    # Training\n",
        "    model.train()\n",
        "    for data, target in train_loader:\n",
        "        optimizer.zero_grad()\n",
        "        data = data.to(device)\n",
        "        target = target.to(device)\n",
        "        output = model(data.float())\n",
        "        target = target.long()\n",
        "        loss = criterion(output, target)\n",
        "        loss.backward()\n",
        "        optimizer.step()\n",
        "        # update running training loss\n",
        "        train_loss += loss.item()*data.size(0)\n",
        "        \n",
        "    # Validation\n",
        "    model.eval()\n",
        "    for data, target in valid_loader:\n",
        "        data = data.to(device)\n",
        "        target = target.to(device)\n",
        "        output = model(data.float())\n",
        "        target = target.long()\n",
        "        loss = criterion(output, target)\n",
        "        valid_loss += loss.item()*data.size(0)\n",
        "        \n",
        "    # Saving loss for validation graph\n",
        "    train_loss = train_loss/len(train_loader.sampler)\n",
        "    valid_loss = valid_loss/len(valid_loader.sampler)\n",
        "    t_losses.append(train_loss)\n",
        "    v_losses.append(valid_loss)\n",
        "    \n",
        "    # save model if validation loss has decreased\n",
        "    if valid_loss < valid_loss_min:\n",
        "        torch.save(model.state_dict(), 'model_files/model_inv16_3.pt')\n",
        "        valid_loss_min = valid_loss\n",
        "    \n",
        "    # Progress bar\n",
        "    print(f\"\\rEpoch: {epoch+1}\\tTrain: {train_loss}\\tVal: {valid_loss}\\tMin Val: {valid_loss_min}\", end='')\n",
        "torch.save(model.state_dict(), 'model_files/model_inv16_3.pt')\n",
        "\n",
        "# Final model\n",
        "model.load_state_dict(torch.load('model_files/model_inv16_3.pt'))\n",
        "from sklearn.metrics import roc_auc_score\n",
        "model.eval()\n",
        "score = 0\n",
        "for data, target in test_loader:\n",
        "    data = data.to(device)\n",
        "    pred = model.predict(data.float())\n",
        "    pred.cpu()\n",
        "    score += roc_auc_score(pred, target)*len(target)\n",
        "    #print(roc_auc_score(pred, target))\n",
        "    #print(pred)\n",
        "    #print(target)\n",
        "print('\\n', score/len(test_loader.sampler))\n",
        "\n",
        "# Saved best model\n",
        "model.load_state_dict(torch.load('model_files/model_inv16_3.pt'))\n",
        "model.eval()\n",
        "score = 0\n",
        "for data, target in test_loader:\n",
        "    data = data.to(device)\n",
        "    data.float()\n",
        "    pred = model.predict(data.float())\n",
        "    pred.cpu()\n",
        "    score += roc_auc_score(pred, target)*len(target)\n",
        "    #print(roc_auc_score(pred, target))\n",
        "    #print(pred)\n",
        "    #print(target)\n",
        "print('\\n', score/len(test_loader.sampler))\n",
        "\n",
        "# Validation graph\n",
        "plt.plot(t_losses)\n",
        "plt.plot(v_losses)\n",
        "plt.ylim(0,1)\n",
        "plt.show()"
      ],
      "execution_count": null,
      "outputs": []
    },
    {
      "cell_type": "code",
      "metadata": {
        "id": "ZBaHJtJuuIQ5",
        "colab_type": "code",
        "colab": {
          "base_uri": "https://localhost:8080/",
          "height": 722
        },
        "outputId": "1223c02c-1ef3-4252-8940-c6932a267d03"
      },
      "source": [
        "model.eval()\n",
        "score = 0\n",
        "for data, target in test_loader:\n",
        "    print(data.shape)\n",
        "    data = data.to(device)\n",
        "    pred = model.predict(data)\n",
        "    pred.cpu()\n",
        "    score += roc_auc_score(pred, target)\n",
        "    print(roc_auc_score(pred, target))\n",
        "    print(pred)\n",
        "    print(target)\n",
        "print('\\n', score/math.ceil(len(test_idx)/batch_size))"
      ],
      "execution_count": 52,
      "outputs": [
        {
          "output_type": "stream",
          "text": [
            "torch.Size([64, 9995])\n",
            "1.0\n",
            "tensor([0, 0, 0, 0, 0, 0, 0, 0, 0, 0, 0, 0, 0, 0, 0, 1, 0, 0, 0, 0, 0, 0, 0, 0,\n",
            "        0, 0, 0, 0, 0, 0, 0, 0, 0, 0, 0, 0, 0, 0, 0, 0, 0, 0, 0, 0, 0, 0, 0, 0,\n",
            "        0, 0, 1, 0, 0, 0, 0, 0, 0, 0, 0, 0, 0, 0, 0, 0])\n",
            "tensor([0, 0, 0, 0, 0, 0, 0, 0, 0, 0, 0, 0, 0, 0, 0, 1, 0, 0, 0, 0, 0, 0, 0, 0,\n",
            "        0, 0, 0, 0, 0, 0, 0, 0, 0, 0, 0, 0, 0, 0, 0, 0, 0, 0, 0, 0, 0, 0, 0, 0,\n",
            "        0, 0, 1, 0, 0, 0, 0, 0, 0, 0, 0, 0, 0, 0, 0, 0])\n",
            "torch.Size([64, 9995])\n",
            "0.9916666666666666\n",
            "tensor([0, 0, 0, 0, 0, 0, 0, 0, 0, 0, 0, 0, 1, 0, 0, 0, 0, 0, 0, 0, 0, 0, 0, 0,\n",
            "        0, 1, 0, 0, 0, 0, 0, 0, 0, 0, 0, 0, 0, 0, 0, 0, 0, 0, 0, 0, 0, 1, 0, 0,\n",
            "        0, 0, 0, 0, 0, 0, 0, 0, 0, 0, 0, 0, 0, 0, 1, 0])\n",
            "tensor([0, 0, 0, 0, 0, 0, 0, 0, 0, 0, 0, 0, 1, 0, 0, 0, 0, 0, 0, 0, 0, 0, 0, 0,\n",
            "        0, 1, 0, 0, 0, 0, 0, 0, 0, 0, 0, 0, 0, 0, 0, 0, 0, 0, 0, 0, 0, 1, 1, 0,\n",
            "        0, 0, 0, 0, 0, 0, 0, 0, 0, 0, 0, 0, 0, 0, 1, 0])\n",
            "torch.Size([11, 9995])\n"
          ],
          "name": "stdout"
        },
        {
          "output_type": "error",
          "ename": "ValueError",
          "evalue": "ignored",
          "traceback": [
            "\u001b[0;31m---------------------------------------------------------------------------\u001b[0m",
            "\u001b[0;31mValueError\u001b[0m                                Traceback (most recent call last)",
            "\u001b[0;32m<ipython-input-52-58726edd1e10>\u001b[0m in \u001b[0;36m<module>\u001b[0;34m()\u001b[0m\n\u001b[1;32m      6\u001b[0m     \u001b[0mpred\u001b[0m \u001b[0;34m=\u001b[0m \u001b[0mmodel\u001b[0m\u001b[0;34m.\u001b[0m\u001b[0mpredict\u001b[0m\u001b[0;34m(\u001b[0m\u001b[0mdata\u001b[0m\u001b[0;34m)\u001b[0m\u001b[0;34m\u001b[0m\u001b[0;34m\u001b[0m\u001b[0m\n\u001b[1;32m      7\u001b[0m     \u001b[0mpred\u001b[0m\u001b[0;34m.\u001b[0m\u001b[0mcpu\u001b[0m\u001b[0;34m(\u001b[0m\u001b[0;34m)\u001b[0m\u001b[0;34m\u001b[0m\u001b[0;34m\u001b[0m\u001b[0m\n\u001b[0;32m----> 8\u001b[0;31m     \u001b[0mscore\u001b[0m \u001b[0;34m+=\u001b[0m \u001b[0mroc_auc_score\u001b[0m\u001b[0;34m(\u001b[0m\u001b[0mpred\u001b[0m\u001b[0;34m,\u001b[0m \u001b[0mtarget\u001b[0m\u001b[0;34m)\u001b[0m\u001b[0;34m\u001b[0m\u001b[0;34m\u001b[0m\u001b[0m\n\u001b[0m\u001b[1;32m      9\u001b[0m     \u001b[0mprint\u001b[0m\u001b[0;34m(\u001b[0m\u001b[0mroc_auc_score\u001b[0m\u001b[0;34m(\u001b[0m\u001b[0mpred\u001b[0m\u001b[0;34m,\u001b[0m \u001b[0mtarget\u001b[0m\u001b[0;34m)\u001b[0m\u001b[0;34m)\u001b[0m\u001b[0;34m\u001b[0m\u001b[0;34m\u001b[0m\u001b[0m\n\u001b[1;32m     10\u001b[0m     \u001b[0mprint\u001b[0m\u001b[0;34m(\u001b[0m\u001b[0mpred\u001b[0m\u001b[0;34m)\u001b[0m\u001b[0;34m\u001b[0m\u001b[0;34m\u001b[0m\u001b[0m\n",
            "\u001b[0;32m/usr/local/lib/python3.6/dist-packages/sklearn/metrics/_ranking.py\u001b[0m in \u001b[0;36mroc_auc_score\u001b[0;34m(y_true, y_score, average, sample_weight, max_fpr, multi_class, labels)\u001b[0m\n\u001b[1;32m    388\u001b[0m                                              max_fpr=max_fpr),\n\u001b[1;32m    389\u001b[0m                                      \u001b[0my_true\u001b[0m\u001b[0;34m,\u001b[0m \u001b[0my_score\u001b[0m\u001b[0;34m,\u001b[0m \u001b[0maverage\u001b[0m\u001b[0;34m,\u001b[0m\u001b[0;34m\u001b[0m\u001b[0;34m\u001b[0m\u001b[0m\n\u001b[0;32m--> 390\u001b[0;31m                                      sample_weight=sample_weight)\n\u001b[0m\u001b[1;32m    391\u001b[0m     \u001b[0;32melse\u001b[0m\u001b[0;34m:\u001b[0m  \u001b[0;31m# multilabel-indicator\u001b[0m\u001b[0;34m\u001b[0m\u001b[0;34m\u001b[0m\u001b[0m\n\u001b[1;32m    392\u001b[0m         return _average_binary_score(partial(_binary_roc_auc_score,\n",
            "\u001b[0;32m/usr/local/lib/python3.6/dist-packages/sklearn/metrics/_base.py\u001b[0m in \u001b[0;36m_average_binary_score\u001b[0;34m(binary_metric, y_true, y_score, average, sample_weight)\u001b[0m\n\u001b[1;32m     75\u001b[0m \u001b[0;34m\u001b[0m\u001b[0m\n\u001b[1;32m     76\u001b[0m     \u001b[0;32mif\u001b[0m \u001b[0my_type\u001b[0m \u001b[0;34m==\u001b[0m \u001b[0;34m\"binary\"\u001b[0m\u001b[0;34m:\u001b[0m\u001b[0;34m\u001b[0m\u001b[0;34m\u001b[0m\u001b[0m\n\u001b[0;32m---> 77\u001b[0;31m         \u001b[0;32mreturn\u001b[0m \u001b[0mbinary_metric\u001b[0m\u001b[0;34m(\u001b[0m\u001b[0my_true\u001b[0m\u001b[0;34m,\u001b[0m \u001b[0my_score\u001b[0m\u001b[0;34m,\u001b[0m \u001b[0msample_weight\u001b[0m\u001b[0;34m=\u001b[0m\u001b[0msample_weight\u001b[0m\u001b[0;34m)\u001b[0m\u001b[0;34m\u001b[0m\u001b[0;34m\u001b[0m\u001b[0m\n\u001b[0m\u001b[1;32m     78\u001b[0m \u001b[0;34m\u001b[0m\u001b[0m\n\u001b[1;32m     79\u001b[0m     \u001b[0mcheck_consistent_length\u001b[0m\u001b[0;34m(\u001b[0m\u001b[0my_true\u001b[0m\u001b[0;34m,\u001b[0m \u001b[0my_score\u001b[0m\u001b[0;34m,\u001b[0m \u001b[0msample_weight\u001b[0m\u001b[0;34m)\u001b[0m\u001b[0;34m\u001b[0m\u001b[0;34m\u001b[0m\u001b[0m\n",
            "\u001b[0;32m/usr/local/lib/python3.6/dist-packages/sklearn/metrics/_ranking.py\u001b[0m in \u001b[0;36m_binary_roc_auc_score\u001b[0;34m(y_true, y_score, sample_weight, max_fpr)\u001b[0m\n\u001b[1;32m    219\u001b[0m     \u001b[0;34m\"\"\"Binary roc auc score\"\"\"\u001b[0m\u001b[0;34m\u001b[0m\u001b[0;34m\u001b[0m\u001b[0m\n\u001b[1;32m    220\u001b[0m     \u001b[0;32mif\u001b[0m \u001b[0mlen\u001b[0m\u001b[0;34m(\u001b[0m\u001b[0mnp\u001b[0m\u001b[0;34m.\u001b[0m\u001b[0munique\u001b[0m\u001b[0;34m(\u001b[0m\u001b[0my_true\u001b[0m\u001b[0;34m)\u001b[0m\u001b[0;34m)\u001b[0m \u001b[0;34m!=\u001b[0m \u001b[0;36m2\u001b[0m\u001b[0;34m:\u001b[0m\u001b[0;34m\u001b[0m\u001b[0;34m\u001b[0m\u001b[0m\n\u001b[0;32m--> 221\u001b[0;31m         raise ValueError(\"Only one class present in y_true. ROC AUC score \"\n\u001b[0m\u001b[1;32m    222\u001b[0m                          \"is not defined in that case.\")\n\u001b[1;32m    223\u001b[0m \u001b[0;34m\u001b[0m\u001b[0m\n",
            "\u001b[0;31mValueError\u001b[0m: Only one class present in y_true. ROC AUC score is not defined in that case."
          ]
        }
      ]
    },
    {
      "cell_type": "markdown",
      "metadata": {
        "id": "3BTeO92jb-J1",
        "colab_type": "text"
      },
      "source": [
        "New training batch!\n",
        "t t t t t t t t t t t t t t t t t t t t t t t t t t t t t t t t t t t t t t t t t t t t t t t t t t t t t t t t t t t t t t t t\n",
        "New training batch!\n",
        "t t t t t t t t t t t t t t t t t t t t t t t t t t t t t t t t t t t t t t t t t t t t t t t t t t t t t t t t t t t t t t t t\n",
        "New training batch!\n",
        "t t t t t t t t t t t t t t t t t t t t t t t t t t t t t t t t t t t t t t t t t t t t t t t t t t t t t t t t t t t t t t t t\n",
        "New training batch!\n",
        "t t t t t t t t t t t t t t t t t t t t t t t t t t t t t t t t t t t t t t t t t t t t t t t t t t t t t t t t t t t t t t t t\n",
        "New training batch!\n",
        "t t t t t t t t t t t t t t t t t t t t t t t t t t t t t t t t t t t t t t t t t t t t t t t t t t t t t t t t t t t t t t t t\n",
        "New training batch!\n",
        "t t t t t t t t t t t t t t t t t t t t t t t t t t t t t t t t t t t t t t t t t t t t t t t t t t t t t t t t t t t t t t t t\n",
        "New training batch!\n",
        "t t t t t t t t t t t t t t t t t t t t t t t t t t t t t t t t t t t t t t t t t t t t t t t t t t t t t t t t t t t t t t t t\n",
        "New training batch!\n",
        "t t t t t t t t t t t t t t t t t t t t t t t t t t t t t t t t t t t t t t t t t t t t t t t t t t t t t t t t t t t t t t t t\n",
        "New training batch!\n",
        "t t t t t t t t t t t t t t t t t t t t t t t t t t t t t t t t t t t t t t t t t t t t t t t t t t t t t t t t t t t t t t t t\n",
        "New training batch!\n",
        "t t t t t t t t t t t t t t t t t t t t t t t t t t t t t t t t t t t t t t t t t t t t t t t t t t t t t t t t t t t t t t t t\n",
        "New training batch!\n",
        "t t t t t t t t t t t t t t t t t t t t t t t t t t t t t t t t t t t t t t t t t t t t t t t t t t t t t t t t t t t t t t t t\n",
        "New training batch!\n",
        "t t t t t t t t t t t t t t t t t t t t t t t t t t t t t t t t t t t t t t t t t t t t t t t t t t t t t t t t t t t t t t t t\n",
        "New training batch!\n",
        "t t t t t t t t t t t t t t t t t t t t t t t t t t t t t t t t t t t t t t t t t t t t t t t t t t t t t t t t t t t t t t t t\n",
        "New training batch!\n",
        "t t t t t t t t t t t t t t t t t t t t t t t t t t t t t t t t t t t t t t t t t t t t t t t t t t t t t t t t t t t t t t t t\n",
        "New training batch!\n",
        "t t t t t t t t t t t t t t t t t t t t t t t t t t t t t t t t t t t t t t t t t t t t t t t t t t t t t t t t t t t t t t t t\n",
        "New training batch!\n",
        "t t t t t t t t t t t t t t t t t t t t t t t t t t t t t t t t t t t t t t t t t t t t t t t t t t t t t t t t t t t t t t t t\n",
        "New training batch!\n",
        "t t t t t t t t t t t t t t t t t t t t t t t t t t t t t t\n",
        "New validation batch!\n",
        "v v v v v v v v v v v v v v v v v v v v v v v v v v v v v v v v v v v v v v v v v v v v v v v v v v v v v v v v v v v v v v v v\n",
        "New validation batch!\n",
        "v v v v v v v v v v v v v v v v v v v v v v v v v v v v v v v v v v v v v v v v v v v v v v v v v v v v v v v v v v v v v v v v\n",
        "New validation batch!\n",
        "v v v v v v v v v v v v v v v v v v v v v v v v v v v v v v v v v v v v v v v v v v v v v v v v v v v v v v v v v v v v v v v v\n",
        "New validation batch!\n",
        "v v v v v v v v v v v v v v v v v v v v v v v v v v v v v v v v v v v v v v v v v v v v v v v v v v v v v v v v v v v v v v v v\n",
        "New validation batch!\n",
        "v v v v v v v v"
      ]
    },
    {
      "cell_type": "code",
      "metadata": {
        "id": "d2M56xmvKx_O",
        "colab_type": "code",
        "colab": {
          "base_uri": "https://localhost:8080/",
          "height": 269
        },
        "outputId": "c94f2ae6-13d4-4c75-f176-15ead83b7496"
      },
      "source": [
        "# Validation graph\n",
        "plt.plot(t_losses)\n",
        "plt.plot(v_losses)\n",
        "plt.ylim(0,1)\n",
        "plt.show()"
      ],
      "execution_count": 14,
      "outputs": [
        {
          "output_type": "display_data",
          "data": {
            "image/png": "[encoded data removed]",
            "text/plain": [
              "<Figure size 432x288 with 1 Axes>"
            ]
          },
          "metadata": {
            "tags": [],
            "needs_background": "light"
          }
        }
      ]
    }
  ]
}