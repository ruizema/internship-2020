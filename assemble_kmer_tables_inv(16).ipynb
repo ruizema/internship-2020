{
 "cells": [
  {
   "cell_type": "code",
   "execution_count": 1,
   "metadata": {},
   "outputs": [],
   "source": [
    "import ast\n",
    "import numpy as np\n",
    "import time\n",
    "import sys\n",
    "import pandas as pd\n",
    "import subprocess\n",
    "import pickle\n",
    "import math\n",
    "from collections import Counter"
   ]
  },
  {
   "cell_type": "code",
   "execution_count": 2,
   "metadata": {},
   "outputs": [
    {
     "name": "stdout",
     "output_type": "stream",
     "text": [
      "6921\n",
      "3134\n"
     ]
    }
   ],
   "source": [
    "# Calculate list of kmers from MYH11 and CBFB genes\n",
    "with open('data/NM_022844.2.exons.fa') as f:\n",
    "    seq = ''\n",
    "    for line in f.readlines():\n",
    "        if line[0] != '>':\n",
    "            seq += line.strip()\n",
    "k = 31\n",
    "kmer_count = Counter()\n",
    "print(len(seq))\n",
    "for i in range(len(seq)-30):\n",
    "    kmer_count[seq[i:i+k]] += 1\n",
    "myh11_kmers = list(kmer_count.keys())\n",
    "\n",
    "with open('data/NM_001755.3.exons.fa') as f:\n",
    "    seq = ''\n",
    "    for line in f.readlines():\n",
    "        if line[0] != '>':\n",
    "            seq += line.strip()\n",
    "kmer_count = Counter()\n",
    "print(len(seq))\n",
    "for i in range(len(seq)-30):\n",
    "    kmer_count[seq[i:i+k]] += 1\n",
    "cbfb_kmers = list(kmer_count.keys())"
   ]
  },
  {
   "cell_type": "code",
   "execution_count": 3,
   "metadata": {},
   "outputs": [
    {
     "data": {
      "text/plain": [
       "set()"
      ]
     },
     "execution_count": 3,
     "metadata": {},
     "output_type": "execute_result"
    }
   ],
   "source": [
    "set(myh11_kmers).intersection(set(cbfb_kmers))"
   ]
  },
  {
   "cell_type": "code",
   "execution_count": 4,
   "metadata": {},
   "outputs": [],
   "source": [
    "npm1_kmers = myh11_kmers + cbfb_kmers"
   ]
  },
  {
   "cell_type": "code",
   "execution_count": 5,
   "metadata": {},
   "outputs": [
    {
     "data": {
      "text/plain": [
       "9995"
      ]
     },
     "execution_count": 5,
     "metadata": {},
     "output_type": "execute_result"
    }
   ],
   "source": [
    "len(npm1_kmers)"
   ]
  },
  {
   "cell_type": "code",
   "execution_count": 6,
   "metadata": {},
   "outputs": [],
   "source": [
    "# Read files for list of all patient ids\n",
    "with open(\"data/patient_list.txt\") as f:\n",
    "    patient_list = f.read().split()"
   ]
  },
  {
   "cell_type": "code",
   "execution_count": 7,
   "metadata": {},
   "outputs": [],
   "source": [
    "def kmc_to_str(kmc):\n",
    "    # Converts kmer count 2d array into string of just the kmers, separated by spaces\n",
    "    return str(kmc).replace(',', \"\").replace(\"'\", '')[1:-1]\n",
    "kms_str = kmc_to_str(npm1_kmers)"
   ]
  },
  {
   "cell_type": "code",
   "execution_count": 8,
   "metadata": {},
   "outputs": [],
   "source": [
    "start_i = 0\n",
    "num_kmers = len(npm1_kmers)\n",
    "kmer_table = pd.DataFrame(np.zeros((len(patient_list), num_kmers+1)))"
   ]
  },
  {
   "cell_type": "code",
   "execution_count": 9,
   "metadata": {},
   "outputs": [],
   "source": [
    "# Loading saved kmer_table\n",
    "with open('data/temp_kmer_table.py', 'rb') as f:\n",
    "    kmer_table = pickle.load(f)\n",
    "start_i = int(kmer_table.iloc[:,-1].idxmax())\n",
    "if int(kmer_table.iloc[-1,-1]) == -1:\n",
    "    start_i = kmer_table.shape[0]"
   ]
  },
  {
   "cell_type": "code",
   "execution_count": 10,
   "metadata": {},
   "outputs": [],
   "source": [
    "# Query all patients for specific kmers, but store in DataFrame\n",
    "def query_np(patients, kms):\n",
    "    global kmer_table\n",
    "    global start_i\n",
    "    global num_kmers\n",
    "    i = start_i\n",
    "    if i != 0:\n",
    "        print(f\"Restarting at patient #{i+1}\")\n",
    "    BUFFER_SIZE = 5\n",
    "    buffer = np.zeros((BUFFER_SIZE, num_kmers+1))\n",
    "    for p in patients[start_i:]:\n",
    "        jf = f\"/u/leucegene/data/sample/{p}/transcriptome/jellyfish/2.2.3/kmers.k31.CL2.jf\"\n",
    "        n = 0\n",
    "        output = \"\"\n",
    "        for n in range(math.ceil(num_kmers/100)):\n",
    "            kms_subset = kmc_to_str(npm1_kmers[n*100:(n+1)*100])\n",
    "            cmd = f\"jellyfish query {jf} {kms_subset}\"\n",
    "            output = output + subprocess.getoutput(cmd) + '\\n'\n",
    "        j = 0\n",
    "        for line in output[:-1].splitlines():\n",
    "            km, cnt = line.split()\n",
    "            buffer[i%BUFFER_SIZE,j] = int(cnt)\n",
    "            j += 1\n",
    "        buffer[i%BUFFER_SIZE,-1] = -1 # Indicates that this line has been queried\n",
    "        i += 1\n",
    "        timestamp = time.strftime(\"%H:%M:%S\", time.localtime())\n",
    "        print(f\"\\r{timestamp}: Queried patient #{i} ({p})...\", end='')\n",
    "        if i % BUFFER_SIZE == 0 or i == kmer_table.shape[0]:\n",
    "            # Dump buffer\n",
    "            buffer = np.delete(buffer, np.where(buffer[:,-1] == 0), axis=0)\n",
    "            kmer_table.iloc[i-buffer.shape[0]:i] = buffer\n",
    "            buffer = np.zeros((BUFFER_SIZE, num_kmers+1))\n",
    "            print(f\"Dumped buffer after patient #{i} ({p})!\")\n",
    "            start_i = i\n",
    "        if i % (BUFFER_SIZE*2) == 0 or i == kmer_table.shape[0]:\n",
    "            # Backup to disk\n",
    "            with open('data/temp_kmer_table.py', 'wb') as f:\n",
    "                pickle.dump(kmer_table, f)\n",
    "            print(f\"Backed up to disk after patient #{i} ({p})...\")"
   ]
  },
  {
   "cell_type": "code",
   "execution_count": 11,
   "metadata": {},
   "outputs": [
    {
     "name": "stdout",
     "output_type": "stream",
     "text": [
      "Restarting at patient #221\n",
      "10:51:29: Queried patient #225 (08H011)...Dumped buffer after patient #225 (08H011)!\n",
      "10:55:48: Queried patient #230 (08H033)...Dumped buffer after patient #230 (08H033)!\n",
      "Backed up to disk after patient #230 (08H033)...\n",
      "11:00:10: Queried patient #235 (08H049)...Dumped buffer after patient #235 (08H049)!\n",
      "11:04:10: Queried patient #240 (08H056)...Dumped buffer after patient #240 (08H056)!\n",
      "Backed up to disk after patient #240 (08H056)...\n",
      "11:08:53: Queried patient #245 (08H072)...Dumped buffer after patient #245 (08H072)!\n",
      "11:14:05: Queried patient #250 (08H087)...Dumped buffer after patient #250 (08H087)!\n",
      "Backed up to disk after patient #250 (08H087)...\n",
      "11:18:44: Queried patient #255 (08H104)...Dumped buffer after patient #255 (08H104)!\n",
      "11:23:32: Queried patient #260 (08H118)...Dumped buffer after patient #260 (08H118)!\n",
      "Backed up to disk after patient #260 (08H118)...\n",
      "11:27:56: Queried patient #265 (09H002)...Dumped buffer after patient #265 (09H002)!\n",
      "11:32:12: Queried patient #270 (09H015)...Dumped buffer after patient #270 (09H015)!\n",
      "Backed up to disk after patient #270 (09H015)...\n",
      "11:36:29: Queried patient #275 (09H026)...Dumped buffer after patient #275 (09H026)!\n",
      "11:41:16: Queried patient #280 (09H040)...Dumped buffer after patient #280 (09H040)!\n",
      "Backed up to disk after patient #280 (09H040)...\n",
      "11:45:34: Queried patient #285 (09H048)...Dumped buffer after patient #285 (09H048)!\n",
      "11:49:45: Queried patient #290 (09H060)...Dumped buffer after patient #290 (09H060)!\n",
      "Backed up to disk after patient #290 (09H060)...\n",
      "11:54:09: Queried patient #295 (09H078)...Dumped buffer after patient #295 (09H078)!\n",
      "11:58:45: Queried patient #300 (09H088)...Dumped buffer after patient #300 (09H088)!\n",
      "Backed up to disk after patient #300 (09H088)...\n",
      "12:02:55: Queried patient #305 (09H098)...Dumped buffer after patient #305 (09H098)!\n",
      "12:07:14: Queried patient #310 (09H115)...Dumped buffer after patient #310 (09H115)!\n",
      "Backed up to disk after patient #310 (09H115)...\n",
      "12:12:36: Queried patient #315 (10H005)...Dumped buffer after patient #315 (10H005)!\n",
      "12:16:59: Queried patient #320 (10H017)...Dumped buffer after patient #320 (10H017)!\n",
      "Backed up to disk after patient #320 (10H017)...\n",
      "12:21:04: Queried patient #325 (10H030)...Dumped buffer after patient #325 (10H030)!\n",
      "12:27:01: Queried patient #330 (10H044)...Dumped buffer after patient #330 (10H044)!\n",
      "Backed up to disk after patient #330 (10H044)...\n",
      "12:31:54: Queried patient #335 (10H052)...Dumped buffer after patient #335 (10H052)!\n",
      "12:35:32: Queried patient #340 (10H059)...Dumped buffer after patient #340 (10H059)!\n",
      "Backed up to disk after patient #340 (10H059)...\n",
      "12:40:05: Queried patient #345 (10H072)...Dumped buffer after patient #345 (10H072)!\n",
      "12:45:00: Queried patient #350 (10H092)...Dumped buffer after patient #350 (10H092)!\n",
      "Backed up to disk after patient #350 (10H092)...\n",
      "12:49:34: Queried patient #355 (10H109)...Dumped buffer after patient #355 (10H109)!\n",
      "12:54:27: Queried patient #360 (10H119)...Dumped buffer after patient #360 (10H119)!\n",
      "Backed up to disk after patient #360 (10H119)...\n",
      "12:59:49: Queried patient #365 (10H136)...Dumped buffer after patient #365 (10H136)!\n",
      "13:04:34: Queried patient #370 (10H173)...Dumped buffer after patient #370 (10H173)!\n",
      "Backed up to disk after patient #370 (10H173)...\n",
      "13:10:03: Queried patient #375 (11H008)...Dumped buffer after patient #375 (11H008)!\n",
      "13:15:07: Queried patient #380 (11H017)...Dumped buffer after patient #380 (11H017)!\n",
      "Backed up to disk after patient #380 (11H017)...\n",
      "13:19:38: Queried patient #385 (11H035)...Dumped buffer after patient #385 (11H035)!\n",
      "13:24:29: Queried patient #390 (11H067)...Dumped buffer after patient #390 (11H067)!\n",
      "Backed up to disk after patient #390 (11H067)...\n",
      "13:29:05: Queried patient #395 (11H097)...Dumped buffer after patient #395 (11H097)!\n",
      "13:33:14: Queried patient #400 (11H127)...Dumped buffer after patient #400 (11H127)!\n",
      "Backed up to disk after patient #400 (11H127)...\n",
      "13:37:36: Queried patient #405 (11H140)...Dumped buffer after patient #405 (11H140)!\n",
      "13:42:16: Queried patient #410 (11H160)...Dumped buffer after patient #410 (11H160)!\n",
      "Backed up to disk after patient #410 (11H160)...\n",
      "13:47:20: Queried patient #415 (11H182)...Dumped buffer after patient #415 (11H182)!\n",
      "13:52:13: Queried patient #420 (11H194)...Dumped buffer after patient #420 (11H194)!\n",
      "Backed up to disk after patient #420 (11H194)...\n",
      "13:58:21: Queried patient #425 (11H230)...Dumped buffer after patient #425 (11H230)!\n",
      "14:02:59: Queried patient #430 (12H007)...Dumped buffer after patient #430 (12H007)!\n",
      "Backed up to disk after patient #430 (12H007)...\n",
      "14:07:48: Queried patient #435 (12H030)...Dumped buffer after patient #435 (12H030)!\n",
      "14:12:27: Queried patient #440 (12H045)...Dumped buffer after patient #440 (12H045)!\n",
      "Backed up to disk after patient #440 (12H045)...\n",
      "14:17:23: Queried patient #445 (12H058)...Dumped buffer after patient #445 (12H058)!\n",
      "14:22:38: Queried patient #450 (12H091)...Dumped buffer after patient #450 (12H091)!\n",
      "Backed up to disk after patient #450 (12H091)...\n",
      "14:27:09: Queried patient #455 (12H117)...Dumped buffer after patient #455 (12H117)!\n",
      "14:32:16: Queried patient #460 (12H139)...Dumped buffer after patient #460 (12H139)!\n",
      "Backed up to disk after patient #460 (12H139)...\n",
      "14:37:13: Queried patient #465 (12H159)...Dumped buffer after patient #465 (12H159)!\n",
      "14:41:16: Queried patient #470 (12H172)...Dumped buffer after patient #470 (12H172)!\n",
      "Backed up to disk after patient #470 (12H172)...\n",
      "14:45:43: Queried patient #475 (12H183)...Dumped buffer after patient #475 (12H183)!\n",
      "14:50:26: Queried patient #480 (13H018)...Dumped buffer after patient #480 (13H018)!\n",
      "Backed up to disk after patient #480 (13H018)...\n",
      "14:54:49: Queried patient #485 (13H053)...Dumped buffer after patient #485 (13H053)!\n",
      "15:00:18: Queried patient #490 (13H065)...Dumped buffer after patient #490 (13H065)!\n",
      "Backed up to disk after patient #490 (13H065)...\n",
      "15:04:43: Queried patient #495 (13H080)...Dumped buffer after patient #495 (13H080)!\n",
      "15:09:56: Queried patient #500 (13H104)...Dumped buffer after patient #500 (13H104)!\n",
      "Backed up to disk after patient #500 (13H104)...\n",
      "15:14:57: Queried patient #505 (13H120)...Dumped buffer after patient #505 (13H120)!\n",
      "15:19:48: Queried patient #510 (13H141)...Dumped buffer after patient #510 (13H141)!\n",
      "Backed up to disk after patient #510 (13H141)...\n",
      "15:24:57: Queried patient #515 (13H166)...Dumped buffer after patient #515 (13H166)!\n",
      "15:30:14: Queried patient #520 (13H182)...Dumped buffer after patient #520 (13H182)!\n",
      "Backed up to disk after patient #520 (13H182)...\n",
      "15:35:25: Queried patient #525 (14H007)...Dumped buffer after patient #525 (14H007)!\n",
      "15:40:04: Queried patient #530 (14H019)...Dumped buffer after patient #530 (14H019)!\n",
      "Backed up to disk after patient #530 (14H019)...\n",
      "15:45:44: Queried patient #535 (14H027)...Dumped buffer after patient #535 (14H027)!\n",
      "15:51:20: Queried patient #540 (14H051)...Dumped buffer after patient #540 (14H051)!\n",
      "Backed up to disk after patient #540 (14H051)...\n",
      "15:57:31: Queried patient #545 (14H093)...Dumped buffer after patient #545 (14H093)!\n",
      "16:04:21: Queried patient #550 (14H109)...Dumped buffer after patient #550 (14H109)!\n",
      "Backed up to disk after patient #550 (14H109)...\n",
      "16:11:01: Queried patient #555 (14H133)...Dumped buffer after patient #555 (14H133)!\n",
      "16:18:22: Queried patient #560 (14H156)...Dumped buffer after patient #560 (14H156)!\n",
      "Backed up to disk after patient #560 (14H156)...\n",
      "16:25:07: Queried patient #565 (15H003)...Dumped buffer after patient #565 (15H003)!\n",
      "16:31:18: Queried patient #570 (15H036)...Dumped buffer after patient #570 (15H036)!\n",
      "Backed up to disk after patient #570 (15H036)...\n",
      "16:38:12: Queried patient #575 (15H049)...Dumped buffer after patient #575 (15H049)!\n",
      "16:44:52: Queried patient #580 (15H063)...Dumped buffer after patient #580 (15H063)!\n",
      "Backed up to disk after patient #580 (15H063)...\n",
      "16:50:24: Queried patient #585 (15H080)...Dumped buffer after patient #585 (15H080)!\n",
      "16:56:17: Queried patient #590 (15H103)...Dumped buffer after patient #590 (15H103)!\n",
      "Backed up to disk after patient #590 (15H103)...\n",
      "17:02:34: Queried patient #595 (15H135)...Dumped buffer after patient #595 (15H135)!\n",
      "17:10:04: Queried patient #600 (16H008)...Dumped buffer after patient #600 (16H008)!\n",
      "Backed up to disk after patient #600 (16H008)...\n",
      "17:16:20: Queried patient #605 (16H027)...Dumped buffer after patient #605 (16H027)!\n",
      "17:23:34: Queried patient #610 (16H064)...Dumped buffer after patient #610 (16H064)!\n",
      "Backed up to disk after patient #610 (16H064)...\n",
      "17:30:58: Queried patient #615 (16H097)...Dumped buffer after patient #615 (16H097)!\n",
      "17:37:26: Queried patient #620 (16H106)...Dumped buffer after patient #620 (16H106)!\n",
      "Backed up to disk after patient #620 (16H106)...\n",
      "17:43:53: Queried patient #625 (16H119)...Dumped buffer after patient #625 (16H119)!\n",
      "17:50:50: Queried patient #630 (16H144)...Dumped buffer after patient #630 (16H144)!\n",
      "Backed up to disk after patient #630 (16H144)...\n",
      "17:57:43: Queried patient #635 (17H027)...Dumped buffer after patient #635 (17H027)!\n",
      "18:04:36: Queried patient #640 (17H045)...Dumped buffer after patient #640 (17H045)!\n",
      "Backed up to disk after patient #640 (17H045)...\n",
      "18:11:22: Queried patient #645 (17H075)...Dumped buffer after patient #645 (17H075)!\n",
      "18:18:21: Queried patient #650 (17H154)...Dumped buffer after patient #650 (17H154)!\n",
      "Backed up to disk after patient #650 (17H154)...\n",
      "18:25:44: Queried patient #655 (17H209)...Dumped buffer after patient #655 (17H209)!\n",
      "18:34:29: Queried patient #660 (18H030)...Dumped buffer after patient #660 (18H030)!\n",
      "Backed up to disk after patient #660 (18H030)...\n",
      "18:41:55: Queried patient #665 (18H058)...Dumped buffer after patient #665 (18H058)!\n",
      "18:49:11: Queried patient #670 (18H093)...Dumped buffer after patient #670 (18H093)!\n",
      "Backed up to disk after patient #670 (18H093)...\n",
      "18:57:59: Queried patient #675 (18H131)...Dumped buffer after patient #675 (18H131)!\n",
      "19:07:19: Queried patient #680 (18H151)...Dumped buffer after patient #680 (18H151)!\n",
      "Backed up to disk after patient #680 (18H151)...\n",
      "19:17:01: Queried patient #685 (18H182)...Dumped buffer after patient #685 (18H182)!\n",
      "19:24:53: Queried patient #690 (18H208)...Dumped buffer after patient #690 (18H208)!\n",
      "Backed up to disk after patient #690 (18H208)...\n",
      "19:26:45: Queried patient #691 (19H045)...Dumped buffer after patient #691 (19H045)!\n",
      "Backed up to disk after patient #691 (19H045)...\n",
      "Done querying!\n"
     ]
    }
   ],
   "source": [
    "# For each patient, extract kmer counts and put it in a DataFrame\n",
    "query_np(patient_list, kms_str)\n",
    "if int(kmer_table.iloc[-1,-1]) == -1:\n",
    "    print(\"Done querying!\")"
   ]
  },
  {
   "cell_type": "code",
   "execution_count": 18,
   "metadata": {},
   "outputs": [],
   "source": [
    "# Processing & export finished data\n",
    "kmer_table.columns = [f\"km_{i}\" for i in range(num_kmers)] + [\"queried\"]\n",
    "export = kmer_table.drop(\"queried\", axis=1)\n",
    "with open('data/km_table_inv16.py', 'wb') as f:\n",
    "    pickle.dump(export, f)"
   ]
  },
  {
   "cell_type": "code",
   "execution_count": 12,
   "metadata": {},
   "outputs": [
    {
     "data": {
      "text/plain": [
       "(691, 9996)"
      ]
     },
     "execution_count": 12,
     "metadata": {},
     "output_type": "execute_result"
    }
   ],
   "source": [
    "kmer_table.shape"
   ]
  }
 ],
 "metadata": {
  "kernelspec": {
   "display_name": "Python 3",
   "language": "python",
   "name": "python3"
  },
  "language_info": {
   "codemirror_mode": {
    "name": "ipython",
    "version": 3
   },
   "file_extension": ".py",
   "mimetype": "text/x-python",
   "name": "python",
   "nbconvert_exporter": "python",
   "pygments_lexer": "ipython3",
   "version": "3.8.3"
  }
 },
 "nbformat": 4,
 "nbformat_minor": 4
}
