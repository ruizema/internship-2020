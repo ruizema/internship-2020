{
 "cells": [
  {
   "cell_type": "code",
   "execution_count": 2,
   "metadata": {},
   "outputs": [],
   "source": [
    "import ast\n",
    "import numpy as np\n",
    "import time\n",
    "import sys\n",
    "import pandas as pd\n",
    "import subprocess\n",
    "import pickle\n",
    "from sklearn.preprocessing import StandardScaler\n",
    "from sklearn.model_selection import train_test_split\n",
    "from sklearn.neural_network import MLPClassifier\n",
    "from sklearn.metrics import confusion_matrix\n",
    "from sklearn.metrics import accuracy_score\n",
    "from sklearn.metrics import roc_auc_score\n",
    "from sklearn.model_selection import learning_curve\n",
    "import random as rand"
   ]
  },
  {
   "cell_type": "code",
   "execution_count": 3,
   "metadata": {},
   "outputs": [],
   "source": [
    "# Loading kmer table\n",
    "with open('data/km_table_0.py', 'rb') as f:\n",
    "    kmer_table = pickle.load(f)"
   ]
  },
  {
   "cell_type": "code",
   "execution_count": 4,
   "metadata": {},
   "outputs": [],
   "source": [
    "# Loading patient table\n",
    "patient_table = pd.read_csv('data/leucegene.csv', index_col=0, skipfooter=1, engine='python')\n",
    "patients = patient_table.index.values"
   ]
  },
  {
   "cell_type": "raw",
   "metadata": {},
   "source": [
    "# Extracting inv(16) label (outdated)\n",
    "inv_16 = [(\"inv(16)\" in text) for text in patient_table.who[:-1]]\n",
    "inv_16 = [(1 if i else 0) for i in inv_16]"
   ]
  },
  {
   "cell_type": "code",
   "execution_count": 5,
   "metadata": {},
   "outputs": [],
   "source": [
    "# Extracting flt3 label\n",
    "flt3 = [(-1 if i == '-' else int(i)) for i in patient_table['FLT3-ITD mutation']]"
   ]
  },
  {
   "cell_type": "code",
   "execution_count": 6,
   "metadata": {},
   "outputs": [],
   "source": [
    "# Filtering out patients with no data\n",
    "kmer_table_filtered = kmer_table.copy()\n",
    "for row in flt3:\n",
    "    if row == -1:\n",
    "        kmer_table_filtered = kmer_table_filtered.drop(kmer_table_filtered.index[row])\n",
    "patient_list_filtered = []\n",
    "flt3_filtered = []\n",
    "for i in range(len(flt3)):\n",
    "    if flt3[i] != -1:\n",
    "        patient_list_filtered.append(patients[i])\n",
    "        flt3_filtered.append(flt3[i])"
   ]
  },
  {
   "cell_type": "code",
   "execution_count": 7,
   "metadata": {},
   "outputs": [
    {
     "name": "stdout",
     "output_type": "stream",
     "text": [
      "132 320\n"
     ]
    }
   ],
   "source": [
    "print(sum(np.array(flt3_filtered) == 1), sum(np.array(flt3_filtered) == 0))"
   ]
  },
  {
   "cell_type": "code",
   "execution_count": 8,
   "metadata": {},
   "outputs": [],
   "source": [
    "# Splitting data\n",
    "x_train, x_test, y_train, y_test = train_test_split(kmer_table_filtered, flt3_filtered, random_state=4)"
   ]
  },
  {
   "cell_type": "code",
   "execution_count": 9,
   "metadata": {},
   "outputs": [],
   "source": [
    "# Data transform\n",
    "def transform_log10(x):\n",
    "    return np.log10(x+1)\n",
    "x_train, x_test = transform_log10(x_train), transform_log10(x_test)"
   ]
  },
  {
   "cell_type": "raw",
   "metadata": {},
   "source": [
    "# Data pre-processing/transformations (outdated)\n",
    "sc = StandardScaler()\n",
    "sc.fit(x_train)\n",
    "x_train = sc.transform(x_train)\n",
    "x_test = sc.transform(x_test)"
   ]
  },
  {
   "cell_type": "code",
   "execution_count": 41,
   "metadata": {},
   "outputs": [],
   "source": [
    "# Define classifier\n",
    "classifier = MLPClassifier(hidden_layer_sizes=(1000,500,250,125), max_iter=1000, activation = 'relu', solver='adam', random_state=1, verbose=1)"
   ]
  },
  {
   "cell_type": "code",
   "execution_count": 42,
   "metadata": {},
   "outputs": [],
   "source": [
    "# Selects batch from training set for half positive half negative\n",
    "def get_batch(n):\n",
    "    batch_x = []\n",
    "    batch_y = []\n",
    "    count = 0\n",
    "    while len(batch_x) < n:\n",
    "        i = rand.randint(0, len(y_train)-1)\n",
    "        if y_train[i] == (count % 2):\n",
    "            batch_x.append(x_train.iloc[i])\n",
    "            batch_y.append(y_train[i])\n",
    "            count += 1\n",
    "    return pd.DataFrame(batch_x), batch_y"
   ]
  },
  {
   "cell_type": "code",
   "execution_count": null,
   "metadata": {},
   "outputs": [],
   "source": [
    "# Train model\n",
    "for n in range(200):\n",
    "    x_batch, y_batch = get_batch(64)\n",
    "    classifier.partial_fit(x_batch, y_batch, classes=np.unique(y_train))"
   ]
  },
  {
   "cell_type": "code",
   "execution_count": 45,
   "metadata": {},
   "outputs": [
    {
     "name": "stdout",
     "output_type": "stream",
     "text": [
      "0.5\n"
     ]
    }
   ],
   "source": [
    "# Predict & accuracy\n",
    "y_pred = classifier.predict(x_test)\n",
    "y_pred_prob = classifier.predict_proba(x_test)\n",
    "print(roc_auc_score(y_test, y_pred))"
   ]
  },
  {
   "cell_type": "code",
   "execution_count": 46,
   "metadata": {},
   "outputs": [
    {
     "data": {
      "text/plain": [
       "0.5"
      ]
     },
     "execution_count": 46,
     "metadata": {},
     "output_type": "execute_result"
    }
   ],
   "source": [
    "roc_auc_score([0, 0, 1, 1], [0, 1, 1, 0])"
   ]
  },
  {
   "cell_type": "code",
   "execution_count": 47,
   "metadata": {},
   "outputs": [
    {
     "name": "stdout",
     "output_type": "stream",
     "text": [
      "[1 1 1 1 1 1 1 1 1 1 1 1 1 1 1 1 1 1 1 1 1 1 1 1 1 1 1 1 1 1 1 1 1 1 1 1 1\n",
      " 1 1 1 1 1 1 1 1 1 1 1 1 1 1 1 1 1 1 1 1 1 1 1 1 1 1 1 1 1 1 1 1 1 1 1 1 1\n",
      " 1 1 1 1 1 1 1 1 1 1 1 1 1 1 1 1 1 1 1 1 1 1 1 1 1 1 1 1 1 1 1 1 1 1 1 1 1\n",
      " 1 1]\n",
      "[[0.45070529 0.54929471]\n",
      " [0.43834082 0.56165918]\n",
      " [0.44713394 0.55286606]\n",
      " [0.47998546 0.52001454]\n",
      " [0.42531012 0.57468988]\n",
      " [0.4338166  0.5661834 ]\n",
      " [0.46749426 0.53250574]\n",
      " [0.46856381 0.53143619]\n",
      " [0.45279323 0.54720677]\n",
      " [0.42846912 0.57153088]\n",
      " [0.43605798 0.56394202]\n",
      " [0.47617154 0.52382846]\n",
      " [0.44966188 0.55033812]\n",
      " [0.41554873 0.58445127]\n",
      " [0.46734989 0.53265011]\n",
      " [0.44460379 0.55539621]\n",
      " [0.4389744  0.5610256 ]\n",
      " [0.44641811 0.55358189]\n",
      " [0.43293963 0.56706037]\n",
      " [0.48440408 0.51559592]\n",
      " [0.42553988 0.57446012]\n",
      " [0.47814532 0.52185468]\n",
      " [0.427383   0.572617  ]\n",
      " [0.45010442 0.54989558]\n",
      " [0.45713546 0.54286454]\n",
      " [0.46297413 0.53702587]\n",
      " [0.45242103 0.54757897]\n",
      " [0.46999933 0.53000067]\n",
      " [0.43836378 0.56163622]\n",
      " [0.43714114 0.56285886]\n",
      " [0.47356155 0.52643845]\n",
      " [0.42258712 0.57741288]\n",
      " [0.45363772 0.54636228]\n",
      " [0.4707546  0.5292454 ]\n",
      " [0.44334286 0.55665714]\n",
      " [0.45575492 0.54424508]\n",
      " [0.43404327 0.56595673]\n",
      " [0.42448299 0.57551701]\n",
      " [0.49006895 0.50993105]\n",
      " [0.4455518  0.5544482 ]\n",
      " [0.41693082 0.58306918]\n",
      " [0.45057969 0.54942031]\n",
      " [0.43731272 0.56268728]\n",
      " [0.46543377 0.53456623]\n",
      " [0.46616571 0.53383429]\n",
      " [0.45867966 0.54132034]\n",
      " [0.45260757 0.54739243]\n",
      " [0.44374764 0.55625236]\n",
      " [0.44791217 0.55208783]\n",
      " [0.44368096 0.55631904]\n",
      " [0.44997334 0.55002666]\n",
      " [0.43962641 0.56037359]\n",
      " [0.44775043 0.55224957]\n",
      " [0.44581881 0.55418119]\n",
      " [0.46729269 0.53270731]\n",
      " [0.46664198 0.53335802]\n",
      " [0.46108252 0.53891748]\n",
      " [0.47798191 0.52201809]\n",
      " [0.44060661 0.55939339]\n",
      " [0.45503086 0.54496914]\n",
      " [0.45148585 0.54851415]\n",
      " [0.44830415 0.55169585]\n",
      " [0.43676109 0.56323891]\n",
      " [0.41966942 0.58033058]\n",
      " [0.43579073 0.56420927]\n",
      " [0.4722751  0.5277249 ]\n",
      " [0.46630749 0.53369251]\n",
      " [0.44269092 0.55730908]\n",
      " [0.42988892 0.57011108]\n",
      " [0.43748554 0.56251446]\n",
      " [0.4107256  0.5892744 ]\n",
      " [0.44164431 0.55835569]\n",
      " [0.4438926  0.5561074 ]\n",
      " [0.45687725 0.54312275]\n",
      " [0.44444809 0.55555191]\n",
      " [0.44049986 0.55950014]\n",
      " [0.46217055 0.53782945]\n",
      " [0.44305448 0.55694552]\n",
      " [0.45851097 0.54148903]\n",
      " [0.45013368 0.54986632]\n",
      " [0.42955118 0.57044882]\n",
      " [0.44879413 0.55120587]\n",
      " [0.44645667 0.55354333]\n",
      " [0.44087981 0.55912019]\n",
      " [0.45784396 0.54215604]\n",
      " [0.4432176  0.5567824 ]\n",
      " [0.43761759 0.56238241]\n",
      " [0.44296995 0.55703005]\n",
      " [0.4731152  0.5268848 ]\n",
      " [0.40958983 0.59041017]\n",
      " [0.43235383 0.56764617]\n",
      " [0.44769912 0.55230088]\n",
      " [0.45373262 0.54626738]\n",
      " [0.41983422 0.58016578]\n",
      " [0.48002926 0.51997074]\n",
      " [0.45564122 0.54435878]\n",
      " [0.42902139 0.57097861]\n",
      " [0.43861048 0.56138952]\n",
      " [0.44256494 0.55743506]\n",
      " [0.46755523 0.53244477]\n",
      " [0.44573897 0.55426103]\n",
      " [0.48107744 0.51892256]\n",
      " [0.45758774 0.54241226]\n",
      " [0.46315226 0.53684774]\n",
      " [0.44797133 0.55202867]\n",
      " [0.48859264 0.51140736]\n",
      " [0.43262092 0.56737908]\n",
      " [0.43052522 0.56947478]\n",
      " [0.46379885 0.53620115]\n",
      " [0.4477055  0.5522945 ]\n",
      " [0.44624862 0.55375138]\n",
      " [0.41749677 0.58250323]\n",
      " [0.43578283 0.56421717]]\n"
     ]
    }
   ],
   "source": [
    "print(y_pred)\n",
    "print(y_pred_prob)"
   ]
  },
  {
   "cell_type": "code",
   "execution_count": 18,
   "metadata": {},
   "outputs": [
    {
     "name": "stdout",
     "output_type": "stream",
     "text": [
      "[1 0 0 1 0 0 0 1 0 0 1 1 0 1 1 0 0 1 0 0 0 1 1 0 0 1 0 0 1 1 0 1 0 0 0 0 0\n",
      " 0 1 0 0 0 0 1 1 0 1 0 0 0 0 0 0 0 0 0 0 1 1 0 0 0 0 0 1 1 0 0 0 0 1 0 0 0\n",
      " 0 0 0 0 0 1 0 0 0 0 0 1 0 0 0 1 0 0 1 0 0 0 0 0 0 0 0 1 1 0 0 0 0 0 0 1 0\n",
      " 0 1]\n"
     ]
    }
   ],
   "source": [
    "print(np.array(y_test))"
   ]
  }
 ],
 "metadata": {
  "kernelspec": {
   "display_name": "Python 3",
   "language": "python",
   "name": "python3"
  },
  "language_info": {
   "codemirror_mode": {
    "name": "ipython",
    "version": 3
   },
   "file_extension": ".py",
   "mimetype": "text/x-python",
   "name": "python",
   "nbconvert_exporter": "python",
   "pygments_lexer": "ipython3",
   "version": "3.8.3"
  }
 },
 "nbformat": 4,
 "nbformat_minor": 4
}
