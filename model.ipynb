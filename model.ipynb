{
 "cells": [
  {
   "cell_type": "code",
   "execution_count": 10,
   "metadata": {},
   "outputs": [],
   "source": [
    "# Jellyfish file parsing\n",
    "# fasta file from jellyfish dump\n",
    "# Format example: this k-mer is present 4 times\n",
    "# >4\n",
    "# TATAGCATTGAAACTAACCCAAGTAAGTGAA\n",
    "filename = \"data/test.txt\"\n",
    "kmer_table = {}\n",
    "with open(filename) as f:\n",
    "    lines = f.readlines()\n",
    "    i = 0\n",
    "    new = True\n",
    "    for line in lines:\n",
    "        if i % 2 == 0:\n",
    "            count = int(line[1:])\n",
    "        else:\n",
    "            kmer = line[:-1]\n",
    "            kmer_table[kmer] = count\n",
    "        i += 1"
   ]
  },
  {
   "cell_type": "code",
   "execution_count": 11,
   "metadata": {},
   "outputs": [
    {
     "name": "stdout",
     "output_type": "stream",
     "text": [
      "{'AAAAAAAAAAAAAAAAAAAAAAAAAAAAAAA': 75093, 'CAGGACTCCAATATAGAGATAAGTTAATGTC': 21, 'CTGAAATCCCAGTGCTTTGGGAGGCTGAGGC': 2, 'GATATTTTCGAAAAGTGGGATTTTTTAAACC': 288, 'ACTTCCACAGTAAAACATGTAAACAACTATG': 3, 'GGGCTGTTCAAAATAGCTGGAGCCCCAGACA': 4, 'CTTCCATGGCTGTCCGGATCGCCGCACTGCA': 220, 'GCACCAGGCCTTTCTCTAGAAGTCCTGAGAC': 301, 'AGCTGACTGGGTGCAAAAAGGTTGTCAATAA': 4, 'TGGCTGAAGACTTGGACTTATTACCAGAGAA': 2, 'GCATCTGCACACACACAGGGAACTTTAAGCA': 7, 'ATCTCCGGGCCAGAGCCCCTCCCCTCGGCCC': 29, 'CTCTGAGCCCACACAGATGTGACATTGCAGA': 2, 'ATCAATCGACTCAGATGATCAGTTTTGGTAG': 65, 'ATTGAGACCTTCAACACCCCGGCCATGTACG': 3, 'AAACATCCACCTGAAATCCTACTACCCCCTC': 30, 'CAAAGCAGGACTTTCCCAGTAAAATCACAGC': 8, 'GCTCCAGCACCAACGTCCGGTTGGCCTGGTA': 2, 'CCAAAATCCCAGGTCTGTCTGGATGACACAG': 2, 'TGGCTGAAGACTTGGACTTATTACCAGAGA': 2}\n"
     ]
    }
   ],
   "source": [
    "# Data processing\n",
    "print(kmer_table)"
   ]
  },
  {
   "cell_type": "code",
   "execution_count": null,
   "metadata": {},
   "outputs": [],
   "source": [
    "# Neural network architecture"
   ]
  },
  {
   "cell_type": "code",
   "execution_count": null,
   "metadata": {},
   "outputs": [],
   "source": [
    "# Model training"
   ]
  },
  {
   "cell_type": "code",
   "execution_count": null,
   "metadata": {},
   "outputs": [],
   "source": [
    "# Model testing"
   ]
  }
 ],
 "metadata": {
  "kernelspec": {
   "display_name": "Python 3",
   "language": "python",
   "name": "python3"
  },
  "language_info": {
   "codemirror_mode": {
    "name": "ipython",
    "version": 3
   },
   "file_extension": ".py",
   "mimetype": "text/x-python",
   "name": "python",
   "nbconvert_exporter": "python",
   "pygments_lexer": "ipython3",
   "version": "3.7.6"
  }
 },
 "nbformat": 4,
 "nbformat_minor": 4
}
