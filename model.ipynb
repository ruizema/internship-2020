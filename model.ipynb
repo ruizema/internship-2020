{
 "cells": [
  {
   "cell_type": "code",
   "execution_count": 16,
   "metadata": {},
   "outputs": [],
   "source": [
    "import ast\n",
    "import numpy as np\n",
    "import time\n",
    "import sys\n",
    "import pandas as pd\n",
    "import subprocess\n",
    "import pickle\n",
    "from sklearn.preprocessing import StandardScaler\n",
    "from sklearn.model_selection import train_test_split\n",
    "from sklearn.neural_network import MLPClassifier\n",
    "from sklearn.metrics import confusion_matrix\n",
    "from sklearn.metrics import accuracy_score\n",
    "from sklearn.metrics import roc_auc_score\n",
    "from sklearn.model_selection import validation_curve\n",
    "import random as rand\n",
    "import matplotlib.pyplot as plt"
   ]
  },
  {
   "cell_type": "code",
<<<<<<< HEAD
   "execution_count": null,
   "metadata": {},
   "outputs": [],
   "source": [
    "from flt3_data_loading import km_normed_1, flt3_filtered\n",
    "x_train, x_test, y_train, y_test = train_test_split(km_normed_1, flt3_filtered, random_state=0)"
=======
   "execution_count": 17,
   "metadata": {},
   "outputs": [],
   "source": [
    "# Loading kmer table\n",
    "with open('data/km_table_1.py', 'rb') as f:\n",
    "    kmer_table = pickle.load(f)"
   ]
  },
  {
   "cell_type": "code",
   "execution_count": 18,
   "metadata": {},
   "outputs": [],
   "source": [
    "# Loading patient table\n",
    "patient_table = pd.read_csv('data/leucegene.csv', index_col=0, skipfooter=1, engine='python')\n",
    "patients = patient_table.index.values"
   ]
  },
  {
   "cell_type": "raw",
   "metadata": {},
   "source": [
    "# Extracting inv(16) label (outdated)\n",
    "inv_16 = [(\"inv(16)\" in text) for text in patient_table.who[:-1]]\n",
    "inv_16 = [(1 if i else 0) for i in inv_16]"
   ]
  },
  {
   "cell_type": "code",
   "execution_count": 19,
   "metadata": {},
   "outputs": [],
   "source": [
    "# Extracting flt3 label\n",
    "flt3 = [(-1 if i == '-' else int(i)) for i in patient_table['FLT3-ITD mutation']]"
   ]
  },
  {
   "cell_type": "code",
   "execution_count": null,
   "metadata": {},
   "outputs": [],
   "source": [
    "# Save flt3 label to disk\n",
    "with open('data/flt3_label.py', 'wb') as f:\n",
    "    pickle.dump(flt3, f)"
   ]
  },
  {
   "cell_type": "code",
   "execution_count": 20,
   "metadata": {},
   "outputs": [],
   "source": [
    "# Filtering out patients with no data\n",
    "kmer_table_filtered = kmer_table.copy()\n",
    "for row in flt3:\n",
    "    if row == -1:\n",
    "        kmer_table_filtered = kmer_table_filtered.drop(kmer_table_filtered.index[row])\n",
    "patient_list_filtered = []\n",
    "flt3_filtered = []\n",
    "for i in range(len(flt3)):\n",
    "    if flt3[i] != -1:\n",
    "        patient_list_filtered.append(patients[i])\n",
    "        flt3_filtered.append(flt3[i])"
   ]
  },
  {
   "cell_type": "code",
   "execution_count": 21,
   "metadata": {},
   "outputs": [
    {
     "name": "stdout",
     "output_type": "stream",
     "text": [
      "132 320\n"
     ]
    }
   ],
   "source": [
    "print(sum(np.array(flt3_filtered) == 1), sum(np.array(flt3_filtered) == 0))"
   ]
  },
  {
   "cell_type": "code",
   "execution_count": 22,
   "metadata": {},
   "outputs": [],
   "source": [
    "# Splitting data\n",
    "x_train, x_test, y_train, y_test = train_test_split(kmer_table_filtered, flt3_filtered, random_state=0)"
   ]
  },
  {
   "cell_type": "code",
   "execution_count": 23,
   "metadata": {},
   "outputs": [],
   "source": [
    "# Data transform\n",
    "def transform_log10(x):\n",
    "    return np.log10(x+1)\n",
    "x_train, x_test = transform_log10(x_train), transform_log10(x_test)"
>>>>>>> parent of 449937d... Model tuning
   ]
  },
  {
   "cell_type": "code",
   "execution_count": 24,
   "metadata": {},
   "outputs": [
    {
     "data": {
      "text/plain": [
       "(452, 3796)"
      ]
     },
     "execution_count": 24,
     "metadata": {},
     "output_type": "execute_result"
    }
   ],
   "source": [
    "kmer_table_filtered.shape"
   ]
  },
  {
   "cell_type": "code",
   "execution_count": 42,
   "metadata": {},
   "outputs": [],
   "source": [
    "# Define classifier\n",
    "classifier = MLPClassifier(hidden_layer_sizes=(2048,512,128,32,8), \n",
    "                           max_iter=100, \n",
    "                           activation = 'relu', \n",
    "                           solver='sgd', \n",
    "                           learning_rate='adaptive', \n",
    "                           tol=0, shuffle=True, \n",
    "                           random_state=3, verbose=1\n",
    "                           #)\n",
    "                           ,early_stopping=True, n_iter_no_change=100, \n",
    "                           validation_fraction=0.1)"
   ]
  },
  {
   "cell_type": "code",
   "execution_count": 20,
   "metadata": {},
   "outputs": [],
   "source": [
    "# Selects batch from training set for half positive half negative\n",
    "def get_batch(n):\n",
    "    batch_x = []\n",
    "    batch_y = []\n",
    "    count = 0\n",
    "    while len(batch_x) < n:\n",
    "        i = rand.randint(0, len(y_train)-1)\n",
    "        if y_train[i] == (count % 2):\n",
    "            batch_x.append(x_train.iloc[i])\n",
    "            batch_y.append(y_train[i])\n",
    "            count += 1\n",
    "    return pd.DataFrame(batch_x), batch_y"
   ]
  },
  {
   "cell_type": "raw",
   "metadata": {},
   "source": [
    "# Train model in batches\n",
    "for n in range(100):\n",
    "    x_batch, y_batch = get_batch(128)\n",
    "    classifier.partial_fit(x_batch, y_batch, classes=np.unique(y_train))"
   ]
  },
  {
   "cell_type": "code",
   "execution_count": 43,
   "metadata": {},
   "outputs": [
    {
     "name": "stdout",
     "output_type": "stream",
     "text": [
      "Iteration 1, loss = 0.72546968\n",
      "Validation score: 0.717391\n",
      "Iteration 2, loss = 0.67457676\n",
      "Validation score: 0.717391\n",
      "Iteration 3, loss = 0.66459226\n",
      "Validation score: 0.717391\n",
      "Iteration 4, loss = 0.65450149\n",
      "Validation score: 0.717391\n",
      "Iteration 5, loss = 0.64489344\n",
      "Validation score: 0.717391\n",
      "Iteration 6, loss = 0.63595212\n",
      "Validation score: 0.717391\n",
      "Iteration 7, loss = 0.62671881\n",
      "Validation score: 0.717391\n",
      "Iteration 8, loss = 0.62076572\n",
      "Validation score: 0.717391\n",
      "Iteration 9, loss = 0.61459121\n",
      "Validation score: 0.717391\n",
      "Iteration 10, loss = 0.60916472\n",
      "Validation score: 0.717391\n",
      "Iteration 11, loss = 0.61447711\n",
      "Validation score: 0.717391\n",
      "Iteration 12, loss = 0.62183189\n",
      "Validation score: 0.717391\n",
      "Iteration 13, loss = 0.61862960\n",
      "Validation score: 0.717391\n",
      "Iteration 14, loss = 0.61347586\n",
      "Validation score: 0.717391\n",
      "Iteration 15, loss = 0.60982673\n",
      "Validation score: 0.717391\n",
      "Iteration 16, loss = 0.60850262\n",
      "Validation score: 0.717391\n",
      "Iteration 17, loss = 0.61064071\n",
      "Validation score: 0.717391\n",
      "Iteration 18, loss = 0.61110970\n",
      "Validation score: 0.717391\n",
      "Iteration 19, loss = 0.61185239\n",
      "Validation score: 0.717391\n",
      "Iteration 20, loss = 0.61168044\n",
      "Validation score: 0.717391\n",
      "Iteration 21, loss = 0.60949201\n",
      "Validation score: 0.717391\n",
      "Iteration 22, loss = 0.60924826\n",
      "Validation score: 0.717391\n",
      "Iteration 23, loss = 0.60935509\n",
      "Validation score: 0.717391\n",
      "Iteration 24, loss = 0.61103093\n",
      "Validation score: 0.717391\n",
      "Iteration 25, loss = 0.61254989\n",
      "Validation score: 0.717391\n",
      "Iteration 26, loss = 0.61395651\n",
      "Validation score: 0.717391\n",
      "Iteration 27, loss = 0.61527336\n",
      "Validation score: 0.717391\n",
      "Iteration 28, loss = 0.61416716\n",
      "Validation score: 0.717391\n",
      "Iteration 29, loss = 0.61447327\n",
      "Validation score: 0.717391\n",
      "Iteration 30, loss = 0.61711922\n",
      "Validation score: 0.717391\n",
      "Iteration 31, loss = 0.61663663\n",
      "Validation score: 0.717391\n",
      "Iteration 32, loss = 0.61363139\n",
      "Validation score: 0.717391\n",
      "Iteration 33, loss = 0.61186991\n",
      "Validation score: 0.717391\n",
      "Iteration 34, loss = 0.61129394\n",
      "Validation score: 0.717391\n",
      "Iteration 35, loss = 0.60993120\n",
      "Validation score: 0.717391\n",
      "Iteration 36, loss = 0.60887735\n",
      "Validation score: 0.717391\n",
      "Iteration 37, loss = 0.60802100\n",
      "Validation score: 0.717391\n",
      "Iteration 38, loss = 0.61349239\n",
      "Validation score: 0.717391\n",
      "Iteration 39, loss = 0.62078535\n",
      "Validation score: 0.717391\n",
      "Iteration 40, loss = 0.62440157\n",
      "Validation score: 0.717391\n",
      "Iteration 41, loss = 0.62044544\n",
      "Validation score: 0.717391\n",
      "Iteration 42, loss = 0.61154882\n",
      "Validation score: 0.717391\n",
      "Iteration 43, loss = 0.60815046\n",
      "Validation score: 0.717391\n",
      "Iteration 44, loss = 0.60856521\n",
      "Validation score: 0.717391\n",
      "Iteration 45, loss = 0.60991493\n",
      "Validation score: 0.717391\n",
      "Iteration 46, loss = 0.61137914\n",
      "Validation score: 0.717391\n",
      "Iteration 47, loss = 0.61205462\n",
      "Validation score: 0.717391\n",
      "Iteration 48, loss = 0.61274730\n",
      "Validation score: 0.717391\n",
      "Iteration 49, loss = 0.61255691\n",
      "Validation score: 0.717391\n",
      "Iteration 50, loss = 0.61326147\n",
      "Validation score: 0.717391\n",
      "Iteration 51, loss = 0.61070375\n",
      "Validation score: 0.717391\n",
      "Iteration 52, loss = 0.60916761\n",
      "Validation score: 0.717391\n",
      "Iteration 53, loss = 0.60818383\n",
      "Validation score: 0.717391\n",
      "Iteration 54, loss = 0.61463815\n",
      "Validation score: 0.717391\n",
      "Iteration 55, loss = 0.62112175\n",
      "Validation score: 0.717391\n",
      "Iteration 56, loss = 0.62408691\n",
      "Validation score: 0.717391\n",
      "Iteration 57, loss = 0.61899290\n",
      "Validation score: 0.717391\n",
      "Iteration 58, loss = 0.61199100\n",
      "Validation score: 0.717391\n",
      "Iteration 59, loss = 0.60863650\n",
      "Validation score: 0.717391\n",
      "Iteration 60, loss = 0.60785259\n",
      "Validation score: 0.717391\n",
      "Iteration 61, loss = 0.60862926\n",
      "Validation score: 0.717391\n",
      "Iteration 62, loss = 0.60820555\n",
      "Validation score: 0.717391\n",
      "Iteration 63, loss = 0.60866967\n",
      "Validation score: 0.717391\n",
      "Iteration 64, loss = 0.60807572\n",
      "Validation score: 0.717391\n",
      "Iteration 65, loss = 0.60962122\n",
      "Validation score: 0.717391\n",
      "Iteration 66, loss = 0.60921818\n",
      "Validation score: 0.717391\n",
      "Iteration 67, loss = 0.60887110\n",
      "Validation score: 0.717391\n",
      "Iteration 68, loss = 0.60924178\n",
      "Validation score: 0.717391\n",
      "Iteration 69, loss = 0.60938720\n",
      "Validation score: 0.717391\n",
      "Iteration 70, loss = 0.60842356\n",
      "Validation score: 0.717391\n",
      "Iteration 71, loss = 0.60843555\n",
      "Validation score: 0.717391\n",
      "Iteration 72, loss = 0.60971507\n",
      "Validation score: 0.717391\n",
      "Iteration 73, loss = 0.61198200\n",
      "Validation score: 0.717391\n",
      "Iteration 74, loss = 0.61525710\n",
      "Validation score: 0.717391\n",
      "Iteration 75, loss = 0.61681794\n",
      "Validation score: 0.717391\n",
      "Iteration 76, loss = 0.62046368\n",
      "Validation score: 0.717391\n",
      "Iteration 77, loss = 0.62655088\n",
      "Validation score: 0.717391\n",
      "Iteration 78, loss = 0.61868940\n",
      "Validation score: 0.717391\n",
      "Iteration 79, loss = 0.61102088\n",
      "Validation score: 0.717391\n",
      "Iteration 80, loss = 0.60982311\n",
      "Validation score: 0.717391\n",
      "Iteration 81, loss = 0.60952439\n",
      "Validation score: 0.717391\n",
      "Iteration 82, loss = 0.60906439\n",
      "Validation score: 0.717391\n",
      "Iteration 83, loss = 0.60865584\n",
      "Validation score: 0.717391\n",
      "Iteration 84, loss = 0.60814952\n",
      "Validation score: 0.717391\n",
      "Iteration 85, loss = 0.60901895\n",
      "Validation score: 0.717391\n",
      "Iteration 86, loss = 0.60760384\n",
      "Validation score: 0.717391\n",
      "Iteration 87, loss = 0.61013898\n",
      "Validation score: 0.717391\n",
      "Iteration 88, loss = 0.61437504\n",
      "Validation score: 0.717391\n",
      "Iteration 89, loss = 0.61757514\n",
      "Validation score: 0.717391\n",
      "Iteration 90, loss = 0.61921002\n",
      "Validation score: 0.717391\n",
      "Iteration 91, loss = 0.61721553\n",
      "Validation score: 0.717391\n",
      "Iteration 92, loss = 0.61278812\n",
      "Validation score: 0.717391\n",
      "Iteration 93, loss = 0.60972680\n",
      "Validation score: 0.717391\n",
      "Iteration 94, loss = 0.60884850\n",
      "Validation score: 0.717391\n",
      "Iteration 95, loss = 0.60884538\n",
      "Validation score: 0.717391\n",
      "Iteration 96, loss = 0.60825678\n",
      "Validation score: 0.717391\n",
      "Iteration 97, loss = 0.60781443\n",
      "Validation score: 0.717391\n",
      "Iteration 98, loss = 0.60857841\n",
      "Validation score: 0.717391\n",
      "Iteration 99, loss = 0.60927020\n",
      "Validation score: 0.717391\n",
      "Iteration 100, loss = 0.60772175\n",
      "Validation score: 0.717391\n"
     ]
    },
    {
     "name": "stderr",
     "output_type": "stream",
     "text": [
      "/u/maruize/miniconda3/envs/stage2020/lib/python3.8/site-packages/sklearn/neural_network/_multilayer_perceptron.py:582: ConvergenceWarning: Stochastic Optimizer: Maximum iterations (100) reached and the optimization hasn't converged yet.\n",
      "  warnings.warn(\n"
     ]
    },
    {
     "data": {
      "text/plain": [
       "MLPClassifier(early_stopping=True, hidden_layer_sizes=(2048, 512, 128, 32, 8),\n",
       "              learning_rate='adaptive', max_iter=100, n_iter_no_change=100,\n",
       "              random_state=3, solver='sgd', tol=0, verbose=1)"
      ]
     },
     "execution_count": 43,
     "metadata": {},
     "output_type": "execute_result"
    }
   ],
   "source": [
    "# Train model & keep validation curve\n",
    "classifier.fit(transform_log10(kmer_table_filtered), flt3_filtered)"
   ]
  },
  {
   "cell_type": "code",
   "execution_count": 45,
   "metadata": {},
   "outputs": [
    {
     "data": {
      "image/png": "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\n",
      "text/plain": [
       "<Figure size 432x288 with 1 Axes>"
      ]
     },
     "metadata": {
      "needs_background": "light"
     },
     "output_type": "display_data"
    }
   ],
   "source": [
    "plt.plot(classifier.loss_curve_)\n",
    "plt.plot(classifier.validation_scores_)\n",
    "plt.ylim(0, 1)\n",
    "plt.show()"
   ]
  },
  {
   "cell_type": "code",
   "execution_count": 50,
   "metadata": {},
   "outputs": [
    {
     "name": "stderr",
     "output_type": "stream",
     "text": [
      "/u/maruize/miniconda3/envs/stage2020/lib/python3.8/site-packages/sklearn/neural_network/_multilayer_perceptron.py:582: ConvergenceWarning: Stochastic Optimizer: Maximum iterations (1000) reached and the optimization hasn't converged yet.\n",
      "  warnings.warn(\n"
     ]
    },
    {
     "data": {
      "text/plain": [
       "MLPClassifier(early_stopping=True, hidden_layer_sizes=(2048, 512, 128, 32, 8),\n",
       "              learning_rate='adaptive', max_iter=1000, n_iter_no_change=1000,\n",
       "              random_state=3, solver='sgd', tol=0, verbose=0)"
      ]
     },
     "execution_count": 50,
     "metadata": {},
     "output_type": "execute_result"
    }
   ],
   "source": [
    "# 1000 iterations?\n",
    "classifier_1000 = MLPClassifier(hidden_layer_sizes=(2048,512,128,32,8), \n",
    "                           max_iter=1000, \n",
    "                           activation = 'relu', \n",
    "                           solver='sgd', \n",
    "                           learning_rate='adaptive', \n",
    "                           tol=0, shuffle=True, \n",
    "                           random_state=3, verbose=0\n",
    "                           #)\n",
    "                           ,early_stopping=True, n_iter_no_change=1000, \n",
    "                           validation_fraction=0.1)\n",
    "classifier_1000.fit(transform_log10(kmer_table_filtered), flt3_filtered)"
   ]
  },
  {
   "cell_type": "code",
   "execution_count": 51,
   "metadata": {},
   "outputs": [
    {
     "data": {
      "image/png": "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\n",
      "text/plain": [
       "<Figure size 432x288 with 1 Axes>"
      ]
     },
     "metadata": {
      "needs_background": "light"
     },
     "output_type": "display_data"
    }
   ],
   "source": [
    "plt.plot(classifier_1000.loss_curve_)\n",
    "plt.plot(classifier_1000.validation_scores_)\n",
    "plt.ylim(0, 1)\n",
    "plt.show()"
   ]
  },
  {
   "cell_type": "code",
   "execution_count": 46,
   "metadata": {},
   "outputs": [
    {
     "name": "stdout",
     "output_type": "stream",
     "text": [
      "0.5\n"
     ]
    }
   ],
   "source": [
    "# Predict & accuracy\n",
    "y_pred = classifier.predict(x_test)\n",
    "y_pred_prob = classifier.predict_proba(x_test)\n",
    "print(roc_auc_score(y_test, y_pred))"
   ]
  },
  {
   "cell_type": "code",
   "execution_count": 47,
   "metadata": {},
   "outputs": [
    {
     "data": {
      "text/plain": [
       "0.5"
      ]
     },
     "execution_count": 47,
     "metadata": {},
     "output_type": "execute_result"
    }
   ],
   "source": [
    "roc_auc_score([0, 0, 1, 1], [0, 1, 1, 0])"
   ]
  },
  {
   "cell_type": "code",
   "execution_count": 48,
   "metadata": {},
   "outputs": [
    {
     "name": "stdout",
     "output_type": "stream",
     "text": [
      "[0 0 0 0 0 0 0 0 0 0 0 0 0 0 0 0 0 0 0 0 0 0 0 0 0 0 0 0 0 0 0 0 0 0 0 0 0\n",
      " 0 0 0 0 0 0 0 0 0 0 0 0 0 0 0 0 0 0 0 0 0 0 0 0 0 0 0 0 0 0 0 0 0 0 0 0 0\n",
      " 0 0 0 0 0 0 0 0 0 0 0 0 0 0 0 0 0 0 0 0 0 0 0 0 0 0 0 0 0 0 0 0 0 0 0 0 0\n",
      " 0 0]\n",
      "[[0.55273121 0.44726879]\n",
      " [0.52172111 0.47827889]\n",
      " [0.51648318 0.48351682]\n",
      " [0.51644247 0.48355753]\n",
      " [0.52304259 0.47695741]]\n"
     ]
    }
   ],
   "source": [
    "print(y_pred)\n",
    "print(y_pred_prob[30:35])"
   ]
  },
  {
   "cell_type": "code",
   "execution_count": 49,
   "metadata": {},
   "outputs": [
    {
     "name": "stdout",
     "output_type": "stream",
     "text": [
      "[0 0 1 1 0 1 0 0 0 1 0 0 0 0 0 1 0 1 1 0 0 1 0 1 1 0 1 0 0 0 0 0 0 1 0 1 0\n",
      " 0 0 0 1 0 0 0 0 0 1 0 0 1 0 0 1 0 0 0 1 0 0 0 0 1 0 0 0 0 0 0 1 0 1 0 0 0\n",
      " 1 0 1 1 0 1 1 0 1 0 1 1 1 1 0 0 0 0 0 1 0 0 1 0 0 1 0 0 0 0 1 0 0 1 0 0 1\n",
      " 1 1]\n"
     ]
    }
   ],
   "source": [
    "print(np.array(y_test))"
   ]
  },
  {
   "cell_type": "code",
   "execution_count": null,
   "metadata": {},
   "outputs": [],
   "source": [
    "# Try shuffling label for negative control\n",
    "classifier_negative = MLPClassifier(hidden_layer_sizes=(2048,512,128,32,8), \n",
    "                           max_iter=100, \n",
    "                           activation = 'relu', \n",
    "                           solver='sgd', \n",
    "                           learning_rate='adaptive', \n",
    "                           tol=0, shuffle=True, \n",
    "                           random_state=3, verbose=1\n",
    "                           #)\n",
    "                           ,early_stopping=True, n_iter_no_change=100, \n",
    "                           validation_fraction=0.1)\n",
    "flt3_filtered_shuffled = flt3_filtered[:]\n",
    "rand.shuffle(flt3_filtered_shuffled)\n",
    "classifier_negative.fit(transform_log10(kmer_table_filtered), flt3_filtered_shuffled)"
   ]
  },
  {
   "cell_type": "code",
   "execution_count": 46,
   "metadata": {},
   "outputs": [
    {
     "data": {
      "image/png": "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\n",
      "text/plain": [
       "<Figure size 432x288 with 1 Axes>"
      ]
     },
     "metadata": {
      "needs_background": "light"
     },
     "output_type": "display_data"
    }
   ],
   "source": [
    "plt.plot(classifier_negative.loss_curve_)\n",
    "plt.plot(classifier_negative.validation_scores_)\n",
    "plt.ylim(0, 1)\n",
    "plt.show()"
   ]
  },
  {
   "cell_type": "code",
   "execution_count": 44,
   "metadata": {},
   "outputs": [
    {
     "data": {
      "text/plain": [
       "260"
      ]
     },
     "execution_count": 44,
     "metadata": {},
     "output_type": "execute_result"
    }
   ],
   "source": [
    "sum(np.array(flt3_filtered) == np.array(flt3_filtered_shuffled))"
   ]
  }
 ],
 "metadata": {
  "kernelspec": {
   "display_name": "Python 3",
   "language": "python",
   "name": "python3"
  },
  "language_info": {
   "codemirror_mode": {
    "name": "ipython",
    "version": 3
   },
   "file_extension": ".py",
   "mimetype": "text/x-python",
   "name": "python",
   "nbconvert_exporter": "python",
   "pygments_lexer": "ipython3",
   "version": "3.8.3"
  }
 },
 "nbformat": 4,
 "nbformat_minor": 4
}
