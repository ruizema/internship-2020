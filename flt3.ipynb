{
  "nbformat": 4,
  "nbformat_minor": 0,
  "metadata": {
    "colab": {
      "name": "flt3_oversampling_rewrite.ipynb",
      "provenance": [],
      "collapsed_sections": [
        "tcyu91l1X-6H",
        "Q0T9Ouh8-B0V",
        "mQBDDytF-FjU"
      ]
    },
    "kernelspec": {
      "display_name": "Python 3",
      "language": "python",
      "name": "python3"
    },
    "language_info": {
      "codemirror_mode": {
        "name": "ipython",
        "version": 3
      },
      "file_extension": ".py",
      "mimetype": "text/x-python",
      "name": "python",
      "nbconvert_exporter": "python",
      "pygments_lexer": "ipython3",
      "version": "3.8.3"
    }
  },
  "cells": [
    {
      "cell_type": "code",
      "metadata": {
        "id": "VNYhN04rh-el"
      },
      "source": [
        "import ast\n",
        "import numpy as np\n",
        "import time\n",
        "import sys\n",
        "import pandas as pd\n",
        "import subprocess\n",
        "import pickle\n",
        "import random as rand\n",
        "import matplotlib.pyplot as plt\n",
        "import seaborn as sns\n",
        "import time\n",
        "import math\n",
        "import torch\n",
        "import torch.nn as nn\n",
        "import torch.nn.functional as F\n",
        "from sklearn.metrics import roc_auc_score\n",
        "sns.set()\n",
        "%config InlineBackend.figure_format='retina'"
      ],
      "execution_count": null,
      "outputs": []
    },
    {
      "cell_type": "code",
      "metadata": {
        "id": "zBWwObkoZY-U"
      },
      "source": [
        "from google.colab import drive\n",
        "drive.mount('/content/drive')"
      ],
      "execution_count": null,
      "outputs": []
    },
    {
      "cell_type": "code",
      "metadata": {
        "id": "vQHOWcuIOoqE"
      },
      "source": [
        "# Google Colab\n",
        "%cd \"drive/My Drive/internship-2020\""
      ],
      "execution_count": null,
      "outputs": []
    },
    {
      "cell_type": "markdown",
      "metadata": {
        "id": "tcyu91l1X-6H"
      },
      "source": [
        "### Data Loading"
      ]
    },
    {
      "cell_type": "code",
      "metadata": {
        "id": "mVazkZvTQE86"
      },
      "source": [
        "from data_processing import split, loader_builder\n",
        "from flt3_data_loading import km_normed_1, flt3_filtered, patient_list_filtered\n",
        "\n",
        "train_set, valid_set, test_set, train_label, valid_label, test_label = split(km_normed_1, flt3_filtered, os=True, patient_list_filtered=patient_list_filtered)\n",
        "train_loader, valid_loader, test_loader = loader_builder(train_set, valid_set, test_set, train_label, valid_label, test_label)"
      ],
      "execution_count": null,
      "outputs": []
    },
    {
      "cell_type": "markdown",
      "metadata": {
        "id": "ESBfBiFN9Nlz"
      },
      "source": [
        "### Testing with km"
      ]
    },
    {
      "cell_type": "code",
      "metadata": {
        "id": "HeRC6M_eHUTG"
      },
      "source": [
        "import re\n",
        "\n",
        "def km_to_flt3(x):\n",
        "    # Converting from coordinates given by km to coordinates in flt3 sequence\n",
        "    return 2009 - x\n",
        "    \n",
        "def parse_km_output(output):\n",
        "    # Returns (start, end) of duplicated sequence inclusively, as well as the length\n",
        "    temp = output.split()\n",
        "    useful = ''\n",
        "    for t in temp:\n",
        "        if re.search(\"\\d*:\\/[AGCT]*:\\d*\", t):\n",
        "            useful = t.split(':')\n",
        "            break\n",
        "    if useful == '':\n",
        "        return ''\n",
        "    itd_loc = km_to_flt3(int(float(useful[0])))\n",
        "    itd_start = itd_loc + 1\n",
        "    itd_len = len(useful[1][1:])\n",
        "    itd_end = itd_loc + itd_len\n",
        "    return itd_start, itd_end, itd_len"
      ],
      "execution_count": null,
      "outputs": []
    },
    {
      "cell_type": "code",
      "metadata": {
        "id": "3lFrlMSEw4ZX",
        "outputId": "8ece5010-e1bb-4b12-cf89-54f5ce1d32e1"
      },
      "source": [
        "# Determine location & size of itd\n",
        "leucegene = pd.read_csv('data/leucegene.csv', index_col=0, skipfooter=1, engine='python')\n",
        "pos_patients = list(leucegene['FLT3-ITD mutation'][leucegene['FLT3-ITD mutation'] == '1'].index)\n",
        "itd_data = {}\n",
        "p = 0\n",
        "for pos_patient in pos_patients:\n",
        "    cmd = f\"km find_mutation /soft/bioinfo/linux_RH7/km-0.1.0-py27/km/data/catalog/GRCh38/FLT3-ITD_exons_13-15.fa /u/leucegene/data/sample/{pos_patient}/transcriptome/jellyfish/2.2.3/kmers.k31.CL2.jf\"\n",
        "    output = subprocess.getoutput(cmd)\n",
        "    itd_data[pos_patient] = parse_km_output(output)\n",
        "    p += 1\n",
        "    print(f\"\\rProgress: {int(p/len(pos_patients)*100)}%\", end='')"
      ],
      "execution_count": null,
      "outputs": [
        {
          "output_type": "stream",
          "text": [
            "Progress: 100%"
          ],
          "name": "stdout"
        }
      ]
    },
    {
      "cell_type": "code",
      "metadata": {
        "id": "pLqj4BxDHUTZ"
      },
      "source": [
        "with open('data/itd_table', 'wb') as f:\n",
        "    pickle.dump(itd_data, f)"
      ],
      "execution_count": null,
      "outputs": []
    },
    {
      "cell_type": "code",
      "metadata": {
        "id": "Sw1B-W_IHUTd",
        "outputId": "493b48f9-7de8-4627-e79a-5ed0b50e845b",
        "colab": {
          "base_uri": "https://localhost:8080/",
          "height": 299
        }
      },
      "source": [
        "# plot ITD lengths\n",
        "with open('data/itd_table', 'rb') as f:\n",
        "    itd_data = pickle.load(f)\n",
        "itd_lengths = [j[2] for j in [i for i in list(itd_data.values()) if i != '']]\n",
        "sns.set_style(\"whitegrid\")\n",
        "plt.hist(itd_lengths, bins=[1+i*10for i in range(15)])\n",
        "plt.vlines(31, 0, 35, color='red')\n",
        "plt.ylim(0,35)\n",
        "plt.ylabel(\"Frequency\")\n",
        "plt.xlabel(\"FLT3-ITD length\")\n",
        "plt.title(\"Distribution of FLT3-ITD lengths\")\n",
        "plt.show()"
      ],
      "execution_count": null,
      "outputs": [
        {
          "output_type": "display_data",
          "data": {
            "image/png": "[encoded data removed]",
            "text/plain": [
              "<Figure size 432x288 with 1 Axes>"
            ]
          },
          "metadata": {
            "tags": [],
            "image/png": {
              "width": 388,
              "height": 282
            }
          }
        }
      ]
    },
    {
      "cell_type": "markdown",
      "metadata": {
        "id": "mQBDDytF-FjU"
      },
      "source": [
        "### PyTorch Model"
      ]
    },
    {
      "cell_type": "code",
      "metadata": {
        "id": "Ejgt1k_cWpUr"
      },
      "source": [
        "from pyt_model import *\n",
        "\n",
        "input_size = km_normed_1.shape[1]\n",
        "model = define_model(input_size)\n",
        "t_losses, v_losses = train_model(model, 2000, [train_loader, valid_loader, test_loader], 'flt3')\n",
        "eval_model('flt3', 'final', test_loader, input_size)\n",
        "eval_model('flt3', 'best', test_loader, input_size)\n",
        "\n",
        "# Validation graph\n",
        "plt.plot(t_losses)\n",
        "plt.plot(v_losses)\n",
        "plt.ylim(0,1)\n",
        "plt.show()"
      ],
      "execution_count": null,
      "outputs": []
    }
  ]
}