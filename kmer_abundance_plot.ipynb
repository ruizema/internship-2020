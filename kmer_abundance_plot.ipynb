{
 "cells": [
  {
   "cell_type": "code",
   "execution_count": 1,
   "metadata": {},
   "outputs": [],
   "source": [
    "import sys\n",
    "import bisect\n",
    "from collections import OrderedDict"
   ]
  },
  {
   "cell_type": "code",
   "execution_count": 2,
   "metadata": {},
   "outputs": [
    {
     "name": "stdout",
     "output_type": "stream",
     "text": [
      "line=10000000\n",
      "line=20000000\n",
      "line=30000000\n",
      "line=40000000\n",
      "line=50000000\n",
      "line=60000000\n",
      "line=70000000\n",
      "line=80000000\n",
      "line=90000000\n",
      "line=100000000\n",
      "line=110000000\n",
      "line=120000000\n",
      "line=130000000\n",
      "line=140000000\n",
      "line=150000000\n",
      "line=160000000\n",
      "Done parsing!\n"
     ]
    }
   ],
   "source": [
    "# Loading test kmer data into memory\n",
    "path = \"test/kmers.k31.CL2.fa\"\n",
    "i = 0\n",
    "kmers = [] # list of all kmer counts, sorted by size later\n",
    "with open(path) as f:\n",
    "    for line in f:\n",
    "        if line[0] == \">\":\n",
    "            num = int(line[1:])\n",
    "            kmers.append([\"\", num])\n",
    "        else:\n",
    "            kmers[i][0] = line\n",
    "            i += 1\n",
    "            if i % 10000000 == 0:\n",
    "                print(f\"line={i}\")\n",
    "print(\"Done parsing!\")"
   ]
  },
  {
   "cell_type": "code",
   "execution_count": 5,
   "metadata": {},
   "outputs": [],
   "source": [
    "# Sorting test\n",
    "import random\n",
    "random.seed()\n",
    "lst = []\n",
    "for i in range(10000000):\n",
    "    lst.append(random.randint(1, 10000000))"
   ]
  },
  {
   "cell_type": "code",
   "execution_count": 8,
   "metadata": {},
   "outputs": [
    {
     "name": "stdout",
     "output_type": "stream",
     "text": [
      "0:00:12.813770\n"
     ]
    }
   ],
   "source": [
    "from datetime import datetime\n",
    "now = datetime.now()\n",
    "lst.sort()\n",
    "now2 = datetime.now()\n",
    "print(now2 - now)"
   ]
  },
  {
   "cell_type": "code",
   "execution_count": 9,
   "metadata": {},
   "outputs": [
    {
     "name": "stdout",
     "output_type": "stream",
     "text": [
      "Sorting...\n",
      "Done sorting!\n"
     ]
    }
   ],
   "source": [
    "def srt(e):\n",
    "    return e[1]\n",
    "print(\"Sorting...\")\n",
    "kmers.sort(key=srt)\n",
    "print(\"Done sorting!\")"
   ]
  },
  {
   "cell_type": "code",
   "execution_count": 19,
   "metadata": {},
   "outputs": [
    {
     "name": "stdout",
     "output_type": "stream",
     "text": [
      "1.38GB\n"
     ]
    }
   ],
   "source": [
    "def get_size(obj):\n",
    "    print(f\"{sys.getsizeof(obj)/1e9:.3}GB\")\n",
    "get_size(kmers)"
   ]
  },
  {
   "cell_type": "code",
   "execution_count": 20,
   "metadata": {},
   "outputs": [],
   "source": [
    "# Saving & loading data\n",
    "def save_as(obj, filename):\n",
    "    with open(filename, 'w') as f:\n",
    "        f.write(repr(obj))\n",
    "def load_obj(filename):\n",
    "    with open(filename, 'r') as f:\n",
    "        return ast.literal_eval(f.read())"
   ]
  },
  {
   "cell_type": "code",
   "execution_count": 21,
   "metadata": {},
   "outputs": [
    {
     "ename": "KeyboardInterrupt",
     "evalue": "",
     "output_type": "error",
     "traceback": [
      "\u001b[0;31m---------------------------------------------------------------------------\u001b[0m",
      "\u001b[0;31mKeyboardInterrupt\u001b[0m                         Traceback (most recent call last)",
      "\u001b[0;32m<ipython-input-21-7cce71dff245>\u001b[0m in \u001b[0;36m<module>\u001b[0;34m\u001b[0m\n\u001b[0;32m----> 1\u001b[0;31m \u001b[0msave_as\u001b[0m\u001b[0;34m(\u001b[0m\u001b[0mkmers\u001b[0m\u001b[0;34m,\u001b[0m \u001b[0;34m\"test/01H002_kmers.py\"\u001b[0m\u001b[0;34m)\u001b[0m\u001b[0;34m\u001b[0m\u001b[0;34m\u001b[0m\u001b[0m\n\u001b[0m",
      "\u001b[0;32m<ipython-input-20-9826fce86c40>\u001b[0m in \u001b[0;36msave_as\u001b[0;34m(obj, filename)\u001b[0m\n\u001b[1;32m      2\u001b[0m \u001b[0;32mdef\u001b[0m \u001b[0msave_as\u001b[0m\u001b[0;34m(\u001b[0m\u001b[0mobj\u001b[0m\u001b[0;34m,\u001b[0m \u001b[0mfilename\u001b[0m\u001b[0;34m)\u001b[0m\u001b[0;34m:\u001b[0m\u001b[0;34m\u001b[0m\u001b[0;34m\u001b[0m\u001b[0m\n\u001b[1;32m      3\u001b[0m     \u001b[0;32mwith\u001b[0m \u001b[0mopen\u001b[0m\u001b[0;34m(\u001b[0m\u001b[0mfilename\u001b[0m\u001b[0;34m,\u001b[0m \u001b[0;34m'w'\u001b[0m\u001b[0;34m)\u001b[0m \u001b[0;32mas\u001b[0m \u001b[0mf\u001b[0m\u001b[0;34m:\u001b[0m\u001b[0;34m\u001b[0m\u001b[0;34m\u001b[0m\u001b[0m\n\u001b[0;32m----> 4\u001b[0;31m         \u001b[0mf\u001b[0m\u001b[0;34m.\u001b[0m\u001b[0mwrite\u001b[0m\u001b[0;34m(\u001b[0m\u001b[0mrepr\u001b[0m\u001b[0;34m(\u001b[0m\u001b[0mobj\u001b[0m\u001b[0;34m)\u001b[0m\u001b[0;34m)\u001b[0m\u001b[0;34m\u001b[0m\u001b[0;34m\u001b[0m\u001b[0m\n\u001b[0m\u001b[1;32m      5\u001b[0m \u001b[0;32mdef\u001b[0m \u001b[0mload_obj\u001b[0m\u001b[0;34m(\u001b[0m\u001b[0mfilename\u001b[0m\u001b[0;34m)\u001b[0m\u001b[0;34m:\u001b[0m\u001b[0;34m\u001b[0m\u001b[0;34m\u001b[0m\u001b[0m\n\u001b[1;32m      6\u001b[0m     \u001b[0;32mwith\u001b[0m \u001b[0mopen\u001b[0m\u001b[0;34m(\u001b[0m\u001b[0mfilename\u001b[0m\u001b[0;34m,\u001b[0m \u001b[0;34m'r'\u001b[0m\u001b[0;34m)\u001b[0m \u001b[0;32mas\u001b[0m \u001b[0mf\u001b[0m\u001b[0;34m:\u001b[0m\u001b[0;34m\u001b[0m\u001b[0;34m\u001b[0m\u001b[0m\n",
      "\u001b[0;31mKeyboardInterrupt\u001b[0m: "
     ]
    }
   ],
   "source": [
    "save_as(kmers, \"test/01H002_kmers.py\")"
   ]
  },
  {
   "cell_type": "code",
   "execution_count": null,
   "metadata": {},
   "outputs": [],
   "source": [
    "print(\"Turning into OrderedDict\")\n",
    "kmer_count = OrderedDict(kmers)\n",
    "print(\"All done!\")"
   ]
  },
  {
   "cell_type": "code",
   "execution_count": 51,
   "metadata": {},
   "outputs": [],
   "source": [
    "def elements_after(lst, n):\n",
    "    # Returns number of elements that are bigger than n in a sorted ascending list\n",
    "    return len(lst) - bisect.bisect(lst, n)"
   ]
  },
  {
   "cell_type": "code",
   "execution_count": 52,
   "metadata": {},
   "outputs": [],
   "source": [
    "def count_bigger(n):\n",
    "    # Returns the number of kmers that are present more than n times\n",
    "    return elements_after(kmer_counts, n)"
   ]
  },
  {
   "cell_type": "code",
   "execution_count": 24,
   "metadata": {},
   "outputs": [],
   "source": [
    "bigger_than_count = [] # for each index i, the number of kmers that are present more than i times\n",
    "for i in range(kmer_counts[-1] + 1):\n",
    "    bigger_than_count.append(count_bigger(i))"
   ]
  },
  {
   "cell_type": "code",
   "execution_count": 53,
   "metadata": {},
   "outputs": [],
   "source": [
    "def find_threshold(n):\n",
    "    # Finds the maximum abundance threshold needed to keep at most n kmers\n",
    "    return elements_after(list(reversed(bigger_than_count)), n)"
   ]
  },
  {
   "cell_type": "code",
   "execution_count": 65,
   "metadata": {},
   "outputs": [
    {
     "name": "stdout",
     "output_type": "stream",
     "text": [
      "753\n",
      "998255\n",
      "753\n"
     ]
    }
   ],
   "source": [
    "# there are 753 kmers present more than 1000000 times\n",
    "print(count_bigger(1e6))\n",
    "\n",
    "# to keep the 753 most abundant kmers, the minimum threshold is 998255 (but 1000000 works too)\n",
    "print(find_threshold(753))\n",
    "\n",
    "# there are also 753 kmers present more than 998255 times\n",
    "print(count_bigger(998255))"
   ]
  },
  {
   "cell_type": "code",
   "execution_count": 76,
   "metadata": {},
   "outputs": [
    {
     "name": "stdout",
     "output_type": "stream",
     "text": [
      "111092\n",
      "10000\n"
     ]
    }
   ],
   "source": [
    "print(find_threshold(10000))\n",
    "print(count_bigger(111092))"
   ]
  },
  {
   "cell_type": "code",
   "execution_count": 14,
   "metadata": {},
   "outputs": [],
   "source": [
    "import ast\n",
    "import numpy as np\n",
    "with open('data/bigger_than_count.py', 'r') as f:\n",
    "    bigger_than_count = np.array(ast.literal_eval(f.read()))"
   ]
  },
  {
   "cell_type": "code",
   "execution_count": 33,
   "metadata": {},
   "outputs": [
    {
     "data": {
      "image/png": "[encoded data removed]",
      "text/plain": [
       "<Figure size 432x288 with 1 Axes>"
      ]
     },
     "metadata": {},
     "output_type": "display_data"
    }
   ],
   "source": [
    "import matplotlib.pyplot as plt\n",
    "import seaborn as sns\n",
    "sns.set()\n",
    "plt.plot(bigger_than_count)\n",
    "plt.xlabel('Kmer abundance level')\n",
    "plt.ylabel('Number of more abundant kmers (log scale)')\n",
    "plt.yscale(\"log\")\n",
    "plt.hlines(10000, 0, len(bigger_than_count), colors=\"green\")\n",
    "plt.hlines(1000, 0, len(bigger_than_count), colors=\"red\")\n",
    "plt.show()"
   ]
  },
  {
   "cell_type": "code",
   "execution_count": null,
   "metadata": {},
   "outputs": [],
   "source": [
    "def n_most_common_kmers(d, n):\n",
    "    return d.items()[-n:]"
   ]
  },
  {
   "cell_type": "code",
   "execution_count": null,
   "metadata": {},
   "outputs": [],
   "source": [
    "# Complete kmer frquency distribution graph for test patient\n",
    "sns.distplot(kmer_counts.values())\n",
    "plt.xlabel(\"Kmer frequency for test patient (01H002)\")"
   ]
  },
  {
   "cell_type": "code",
   "execution_count": null,
   "metadata": {},
   "outputs": [],
   "source": [
    "# Compare kmer counts between patients\n",
    "\n",
    "# Given a list of 10000 kmers (most frequent kmers of test patient)\n",
    "common = n_most_common_kmers(kmer_counts, 10000)\n",
    "# For each patient file\n",
    "files = [\"02H043\", \"03H090\", \"04H120\", \"05H072\"]\n",
    "for f in files:\n",
    "    with open(f\"/u/leucegene/data/rnaseq/jellyfish/EXT001/{f}/kmers.k31.CL2.jf\") as jf:\n",
    "        pass\n",
    "        # Convert to fasta format with jellyfish python interface\n",
    "        # Go through all kmers\n",
    "        # If kmer is in the list, save it\n",
    "        # Make distribution graph of kmer frequencies\n",
    "\n",
    "# Visually compare graphs"
   ]
  }
 ],
 "metadata": {
  "kernelspec": {
   "display_name": "Python 3.6.7",
   "language": "python",
   "name": "python3"
  },
  "language_info": {
   "codemirror_mode": {
    "name": "ipython",
    "version": 3
   },
   "file_extension": ".py",
   "mimetype": "text/x-python",
   "name": "python",
   "nbconvert_exporter": "python",
   "pygments_lexer": "ipython3",
   "version": "3.6.7"
  }
 },
 "nbformat": 4,
 "nbformat_minor": 4
}
