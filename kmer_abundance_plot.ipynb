{
 "cells": [
  {
   "cell_type": "code",
   "execution_count": 11,
   "metadata": {},
   "outputs": [],
   "source": [
    "import sys\n",
    "import bisect\n",
    "from collections import OrderedDict"
   ]
  },
  {
   "cell_type": "markdown",
   "metadata": {},
   "source": [
    "### Data processing"
   ]
  },
  {
   "cell_type": "code",
   "execution_count": 12,
   "metadata": {},
   "outputs": [
    {
     "name": "stdout",
     "output_type": "stream",
     "text": [
      "line=10000000\n",
      "line=20000000\n",
      "line=30000000\n",
      "line=40000000\n",
      "line=50000000\n",
      "line=60000000\n",
      "line=70000000\n",
      "line=80000000\n",
      "line=90000000\n",
      "line=100000000\n",
      "line=110000000\n",
      "line=120000000\n",
      "line=130000000\n",
      "line=140000000\n",
      "line=150000000\n",
      "line=160000000\n",
      "Done parsing!\n"
     ]
    }
   ],
   "source": [
    "# Loading test kmer data into memory\n",
    "path = \"test/kmers.k31.CL2.fa\"\n",
    "i = 0\n",
    "kmers = [] # list of all kmer counts, sorted by size later\n",
    "with open(path) as f:\n",
    "    for line in f:\n",
    "        if line[0] == \">\":\n",
    "            num = int(line[1:])\n",
    "            kmers.append([\"\", num])\n",
    "        else:\n",
    "            kmers[i][0][:-1] = line\n",
    "            i += 1\n",
    "            if i % 10000000 == 0:\n",
    "                print(f\"line={i}\")\n",
    "print(\"Done parsing!\")"
   ]
  },
  {
   "cell_type": "code",
   "execution_count": 13,
   "metadata": {},
   "outputs": [
    {
     "name": "stdout",
     "output_type": "stream",
     "text": [
      "Sorting...\n",
      "Done sorting!\n"
     ]
    }
   ],
   "source": [
    "def srt(e):\n",
    "    return e[1]\n",
    "print(\"Sorting...\")\n",
    "kmers.sort(key=srt)\n",
    "print(\"Done sorting!\")"
   ]
  },
  {
   "cell_type": "markdown",
   "metadata": {},
   "source": [
    "### Code to generate kmer abundance graph (deprecated)"
   ]
  },
  {
   "cell_type": "code",
   "execution_count": 51,
   "metadata": {},
   "outputs": [],
   "source": [
    "def elements_after(lst, n):\n",
    "    # Returns number of elements that are bigger than n in a sorted ascending list\n",
    "    return len(lst) - bisect.bisect(lst, n)"
   ]
  },
  {
   "cell_type": "code",
   "execution_count": 52,
   "metadata": {},
   "outputs": [],
   "source": [
    "def count_bigger(n):\n",
    "    # Returns the number of kmers that are present more than n times\n",
    "    return elements_after(kmer_counts, n)"
   ]
  },
  {
   "cell_type": "code",
   "execution_count": 24,
   "metadata": {},
   "outputs": [],
   "source": [
    "bigger_than_count = [] # for each index i, the number of kmers that are present more than i times\n",
    "for i in range(kmer_counts[-1] + 1):\n",
    "    bigger_than_count.append(count_bigger(i))"
   ]
  },
  {
   "cell_type": "code",
   "execution_count": 53,
   "metadata": {},
   "outputs": [],
   "source": [
    "def find_threshold(n):\n",
    "    # Finds the maximum abundance threshold needed to keep at most n kmers\n",
    "    return elements_after(list(reversed(bigger_than_count)), n)"
   ]
  },
  {
   "cell_type": "code",
   "execution_count": 65,
   "metadata": {},
   "outputs": [
    {
     "name": "stdout",
     "output_type": "stream",
     "text": [
      "753\n",
      "998255\n",
      "753\n"
     ]
    }
   ],
   "source": [
    "# there are 753 kmers present more than 1000000 times\n",
    "print(count_bigger(1e6))\n",
    "\n",
    "# to keep the 753 most abundant kmers, the minimum threshold is 998255 (but 1000000 works too)\n",
    "print(find_threshold(753))\n",
    "\n",
    "# there are also 753 kmers present more than 998255 times\n",
    "print(count_bigger(998255))"
   ]
  },
  {
   "cell_type": "code",
   "execution_count": 76,
   "metadata": {},
   "outputs": [
    {
     "name": "stdout",
     "output_type": "stream",
     "text": [
      "111092\n",
      "10000\n"
     ]
    }
   ],
   "source": [
    "print(find_threshold(10000))\n",
    "print(count_bigger(111092))"
   ]
  },
  {
   "cell_type": "code",
   "execution_count": 14,
   "metadata": {},
   "outputs": [],
   "source": [
    "import ast\n",
    "import numpy as np\n",
    "with open('data/bigger_than_count.py', 'r') as f:\n",
    "    bigger_than_count = np.array(ast.literal_eval(f.read()))"
   ]
  },
  {
   "cell_type": "code",
   "execution_count": null,
   "metadata": {},
   "outputs": [],
   "source": [
    "import matplotlib.pyplot as plt\n",
    "import seaborn as sns\n",
    "sns.set()\n",
    "plt.plot(bigger_than_count)\n",
    "plt.xlabel('Kmer abundance level')\n",
    "plt.ylabel('Number of more abundant kmers (log scale)')\n",
    "plt.yscale(\"log\")\n",
    "plt.hlines(10000, 0, len(bigger_than_count), colors=\"green\")\n",
    "plt.hlines(1000, 0, len(bigger_than_count), colors=\"red\")\n",
    "plt.show()"
   ]
  },
  {
   "cell_type": "markdown",
   "metadata": {},
   "source": [
    "![kmer abundance plot](kmer_abundance.png)"
   ]
  },
  {
   "cell_type": "markdown",
   "metadata": {},
   "source": [
    "### Extraction & export of 1000 most common kmers"
   ]
  },
  {
   "cell_type": "code",
   "execution_count": 14,
   "metadata": {},
   "outputs": [],
   "source": [
    "def n_most_common_kmers(km, n):\n",
    "    return km[-n:]"
   ]
  },
  {
   "cell_type": "code",
   "execution_count": null,
   "metadata": {},
   "outputs": [],
   "source": [
    "# Complete kmer frquency distribution graph for test patient\n",
    "sns.distplot(kmers)\n",
    "plt.xlabel(\"Kmer frequency for test patient (01H002)\")"
   ]
  },
  {
   "cell_type": "code",
   "execution_count": 18,
   "metadata": {},
   "outputs": [],
   "source": [
    "# Extract & export 1000 most common kmers for test patient\n",
    "most_common = n_most_common_kmers(kmers, 1000)\n",
    "with open('1000_most_common_kmers.py', 'w') as f:\n",
    "    f.write(repr(most_common))"
   ]
  }
 ],
 "metadata": {
  "kernelspec": {
   "display_name": "Python 3.6.7",
   "language": "python",
   "name": "python3"
  },
  "language_info": {
   "codemirror_mode": {
    "name": "ipython",
    "version": 3
   },
   "file_extension": ".py",
   "mimetype": "text/x-python",
   "name": "python",
   "nbconvert_exporter": "python",
   "pygments_lexer": "ipython3",
   "version": "3.6.7"
  }
 },
 "nbformat": 4,
 "nbformat_minor": 4
}
