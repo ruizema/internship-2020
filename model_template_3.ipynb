{
 "cells": [
  {
   "cell_type": "code",
   "execution_count": 1,
   "metadata": {},
   "outputs": [],
   "source": [
    "import ast\n",
    "import numpy as np\n",
    "import time\n",
    "import sys\n",
    "import pandas as pd\n",
    "import subprocess\n",
    "import pickle\n",
    "from sklearn.preprocessing import StandardScaler\n",
    "from sklearn.model_selection import train_test_split\n",
    "from sklearn.neural_network import MLPClassifier\n",
    "from sklearn.metrics import confusion_matrix\n",
    "from sklearn.metrics import accuracy_score\n",
    "from sklearn.metrics import roc_auc_score\n",
    "from sklearn.model_selection import validation_curve\n",
    "import random as rand\n",
    "import matplotlib.pyplot as plt\n",
    "from sklearn.metrics import log_loss\n",
    "import time\n",
    "import math"
   ]
  },
  {
   "cell_type": "code",
   "execution_count": 2,
   "metadata": {},
   "outputs": [],
   "source": [
    "from flt3_data_loading import km_normed_1, flt3_filtered\n",
    "x_train, x_test, y_train, y_test = train_test_split(km_normed_1, flt3_filtered, test_size=0.1, random_state=3, stratify=None)"
   ]
  },
  {
   "cell_type": "code",
   "execution_count": 3,
   "metadata": {},
   "outputs": [
    {
     "data": {
      "text/plain": [
       "MLPClassifier(batch_size=100, hidden_layer_sizes=(2048, 512, 128, 32, 8),\n",
       "              learning_rate='adaptive', max_iter=1000, random_state=3,\n",
       "              solver='sgd', tol=0, verbose=0)"
      ]
     },
     "execution_count": 3,
     "metadata": {},
     "output_type": "execute_result"
    }
   ],
   "source": [
    "# 100 batch size + low validation fraction + adaptive lr with stratify=None?\n",
    "x_train, x_test, y_train, y_test = train_test_split(km_normed_1, flt3_filtered, \n",
    "                                                    test_size=0.1, random_state=3, \n",
    "                                                    stratify=None)\n",
    "classifier_norm_1 = MLPClassifier(hidden_layer_sizes=(2048,512,128,32,8), \n",
    "                           max_iter=1000, \n",
    "                           activation = 'relu', \n",
    "                           solver='sgd', \n",
    "                           learning_rate='adaptive', \n",
    "                           tol=0, shuffle=True, \n",
    "                           random_state=3, verbose=0,\n",
    "                           batch_size=100\n",
    "                           )\n",
    "                           #,early_stopping=True, n_iter_no_change=1000, \n",
    "                           #validation_fraction=0.1)\n",
    "classifier_norm_1.fit(x_train, y_train)"
   ]
  },
  {
   "cell_type": "code",
   "execution_count": 4,
   "metadata": {},
   "outputs": [
    {
     "data": {
      "image/png": "[encoded data removed]",
      "text/plain": [
       "<Figure size 432x288 with 1 Axes>"
      ]
     },
     "metadata": {
      "needs_background": "light"
     },
     "output_type": "display_data"
    },
    {
     "name": "stdout",
     "output_type": "stream",
     "text": [
      "0.5104166666666667\n"
     ]
    }
   ],
   "source": [
    "plt.plot(classifier_norm_1.loss_curve_)\n",
    "#plt.plot(classifier_norm_1.validation_scores_)\n",
    "plt.ylim(0, 1)\n",
    "plt.show()\n",
    "y_pred = classifier_norm_1.predict(x_test)\n",
    "print(roc_auc_score(y_test, y_pred))"
   ]
  },
  {
   "cell_type": "code",
   "execution_count": 6,
   "metadata": {},
   "outputs": [
    {
     "ename": "NameError",
     "evalue": "name 'X' is not defined",
     "output_type": "error",
     "traceback": [
      "\u001b[0;31m----------------------------------------------------------\u001b[0m",
      "\u001b[0;31mNameError\u001b[0m                Traceback (most recent call last)",
      "\u001b[0;32m<ipython-input-6-fa0134f942c4>\u001b[0m in \u001b[0;36m<module>\u001b[0;34m\u001b[0m\n\u001b[0;32m----> 1\u001b[0;31m \u001b[0mprint\u001b[0m\u001b[0;34m(\u001b[0m\u001b[0mX\u001b[0m\u001b[0;34m)\u001b[0m\u001b[0;34m\u001b[0m\u001b[0;34m\u001b[0m\u001b[0m\n\u001b[0m",
      "\u001b[0;31mNameError\u001b[0m: name 'X' is not defined"
     ]
    }
   ],
   "source": [
    "print(X)"
   ]
  },
  {
   "cell_type": "code",
   "execution_count": 9,
   "metadata": {},
   "outputs": [
    {
     "data": {
      "text/plain": [
       "[array([[ 0.00395645,  0.01106785, -0.01401123, ..., -0.0273532 ,\n",
       "          0.02734637, -0.02616883],\n",
       "        [-0.00145042,  0.00883882,  0.0079016 , ...,  0.01147266,\n",
       "         -0.00731816,  0.0103721 ],\n",
       "        [ 0.003118  , -0.02939351, -0.01466196, ..., -0.01395979,\n",
       "         -0.01367298, -0.01728457],\n",
       "        ...,\n",
       "        [-0.02364639, -0.02229902,  0.0118415 , ..., -0.02198908,\n",
       "         -0.02850876, -0.023131  ],\n",
       "        [-0.0009663 , -0.01151399, -0.00068901, ..., -0.0047288 ,\n",
       "          0.01287764,  0.01147097],\n",
       "        [ 0.02133243,  0.02642923,  0.02824448, ...,  0.00546205,\n",
       "          0.0078069 ,  0.00560876]]),\n",
       " array([[-0.03139027,  0.04161352,  0.02994778, ..., -0.03362836,\n",
       "          0.0184997 , -0.01530416],\n",
       "        [-0.02185907, -0.03163907, -0.03566996, ..., -0.02990389,\n",
       "          0.03835865, -0.04271836],\n",
       "        [-0.04853899,  0.01049183,  0.01532731, ..., -0.04540574,\n",
       "          0.03586874,  0.04048549],\n",
       "        ...,\n",
       "        [ 0.03872948,  0.04690262,  0.00750104, ...,  0.03291124,\n",
       "         -0.02874157,  0.03612676],\n",
       "        [ 0.03449887, -0.01665375, -0.04407832, ..., -0.02923749,\n",
       "         -0.03664253,  0.00453691],\n",
       "        [-0.01935527,  0.02249569,  0.02459722, ..., -0.00974102,\n",
       "         -0.04310371, -0.03840802]]),\n",
       " array([[ 0.01589583, -0.0261256 , -0.07854503, ..., -0.00692019,\n",
       "         -0.07088144,  0.08888563],\n",
       "        [ 0.04380696, -0.06778205, -0.02788679, ..., -0.01814669,\n",
       "          0.02869007,  0.06723218],\n",
       "        [ 0.05771346, -0.0080768 ,  0.06528772, ..., -0.05585823,\n",
       "          0.08252091,  0.00544554],\n",
       "        ...,\n",
       "        [ 0.02204062,  0.02832525, -0.08809829, ...,  0.02445069,\n",
       "         -0.05892217, -0.0690057 ],\n",
       "        [-0.02902812,  0.07890907,  0.00276522, ..., -0.07910322,\n",
       "         -0.03021178, -0.0037854 ],\n",
       "        [ 0.03772244,  0.02469726, -0.05751198, ..., -0.05960702,\n",
       "          0.04995217,  0.02060818]]),\n",
       " array([[-0.05227519,  0.04855261, -0.10282702, ..., -0.02328159,\n",
       "          0.14981219,  0.04062427],\n",
       "        [ 0.00692557, -0.09399187, -0.06385465, ...,  0.06676677,\n",
       "         -0.05323068,  0.13639966],\n",
       "        [-0.11405175,  0.08643735,  0.24317398, ..., -0.0940587 ,\n",
       "         -0.12833227, -0.1444486 ],\n",
       "        ...,\n",
       "        [-0.11944939,  0.02009634,  0.13550665, ..., -0.11396777,\n",
       "          0.05407933, -0.04971961],\n",
       "        [ 0.17357328,  0.13693488, -0.18573474, ..., -0.02155532,\n",
       "          0.01471936, -0.06504427],\n",
       "        [-0.11353707, -0.10972106, -0.05757204, ..., -0.05770748,\n",
       "         -0.01783205, -0.09417298]]),\n",
       " array([[ 8.37421575e-02,  1.06367766e-01,  2.06847645e-01,\n",
       "          3.55746951e-01, -1.71626829e-01, -3.13537658e-01,\n",
       "         -8.55792664e-02, -2.21575136e-01],\n",
       "        [ 1.55388212e-01,  2.60613714e-01, -3.12321662e-01,\n",
       "         -3.42382572e-01,  3.71803908e-01, -1.99916979e-01,\n",
       "         -1.98772499e-01, -3.26933526e-01],\n",
       "        [ 3.17907274e-02,  3.34768830e-01,  6.21141936e-01,\n",
       "          1.12691120e-01,  7.85873657e-02,  8.92920883e-02,\n",
       "          7.94999635e-02,  8.05882441e-02],\n",
       "        [ 7.63657037e-02, -3.25404195e-01,  1.25269589e-02,\n",
       "         -1.30927659e-01, -5.25500603e-02, -9.88505092e-02,\n",
       "          1.03702473e-01, -3.60699007e-01],\n",
       "        [-2.34987954e-01,  3.23449394e-01, -5.05377384e-02,\n",
       "          9.78826812e-03,  1.26500899e-01, -1.20111839e-02,\n",
       "         -1.52599460e-01, -1.15322629e-01],\n",
       "        [ 3.65868929e-01,  2.56248901e-01, -1.82433530e-01,\n",
       "         -2.78404352e-01, -1.26068224e-01, -3.04432744e-01,\n",
       "          2.76821176e-01,  2.48439451e-01],\n",
       "        [ 1.62033830e-01, -8.99436265e-03, -6.52600235e-02,\n",
       "          2.35297122e-01,  4.23498844e-02, -2.34585409e-01,\n",
       "         -1.42219593e-01, -5.55678564e-02],\n",
       "        [-1.23695723e-01,  3.58001401e-01,  3.39597981e-01,\n",
       "         -7.65135696e-03,  1.65891724e-01,  3.81938974e-01,\n",
       "         -3.76224128e-01,  2.46122316e-01],\n",
       "        [-2.93637651e-02,  6.33543020e-02, -3.19922342e-01,\n",
       "          9.26707343e-02, -1.01346734e-01,  1.42087422e-01,\n",
       "         -7.18681261e-02, -3.75733310e-01],\n",
       "        [ 3.63663358e-01,  3.67953626e-01, -1.88820771e-01,\n",
       "          6.10422267e-02, -2.50182857e-02,  1.28710075e-01,\n",
       "         -2.96113352e-01, -1.97918582e-01],\n",
       "        [-3.67486573e-01,  3.36786949e-02,  5.20060254e-01,\n",
       "         -3.78567588e-01,  3.11909820e-02, -2.72281046e-01,\n",
       "         -2.84536601e-01,  1.31459658e-01],\n",
       "        [ 3.10605546e-02, -2.53403739e-01, -3.30064077e-01,\n",
       "          3.52027737e-01, -1.56869694e-01,  1.26429672e-01,\n",
       "          3.08185003e-01,  2.17997378e-01],\n",
       "        [ 2.79181046e-01, -3.83079092e-01, -3.80987334e-01,\n",
       "          3.24261222e-01, -2.88322606e-01,  3.04826731e-01,\n",
       "          2.49700487e-01, -2.99312511e-02],\n",
       "        [ 2.23312456e-01,  1.41174061e-01, -2.57753224e-01,\n",
       "          1.64938711e-01, -1.02685109e-01, -2.80459480e-01,\n",
       "          1.39807942e-01,  1.89933146e-01],\n",
       "        [-2.65228420e-01,  6.57345066e-02, -3.09626545e-01,\n",
       "          3.02051045e-01,  1.43366600e-01, -1.59561731e-01,\n",
       "         -3.07974901e-01, -3.57696485e-01],\n",
       "        [ 3.11832911e-01, -1.83013733e-01, -8.93699810e-02,\n",
       "          1.31490235e-01, -8.20653198e-02, -3.06522293e-01,\n",
       "         -2.71445125e-02, -3.67604438e-02],\n",
       "        [ 3.11605951e-01, -7.79204510e-02,  3.24634078e-01,\n",
       "         -6.14460328e-02,  6.76917440e-02, -3.85010769e-01,\n",
       "         -3.07587027e-01,  1.91857196e-01],\n",
       "        [ 2.12260779e-01, -2.44068285e-01, -5.24398974e-01,\n",
       "         -3.06089139e-01, -3.12191671e-01, -6.88789702e-02,\n",
       "          1.38075606e-01,  1.55325879e-01],\n",
       "        [ 4.07856306e-01, -3.63862220e-01,  5.55053020e-02,\n",
       "         -1.97715602e-01, -7.21542185e-02,  4.29208128e-02,\n",
       "         -2.61655539e-01, -3.80920993e-01],\n",
       "        [ 2.10326128e-02, -2.00081053e-01,  3.25734904e-02,\n",
       "          5.32793094e-04, -2.06532645e-01,  2.54393275e-01,\n",
       "         -1.37762415e-01,  2.30453717e-01],\n",
       "        [ 3.66256277e-01,  1.25026355e-01, -1.43652555e-01,\n",
       "         -1.03130288e-02, -2.05835063e-01, -5.96641008e-02,\n",
       "          1.93382396e-02, -2.32895738e-01],\n",
       "        [ 2.55360924e-01,  1.98352576e-01,  4.34436291e-01,\n",
       "          2.72864224e-01, -2.55767625e-01,  2.88326163e-01,\n",
       "         -3.55196146e-01, -3.64681362e-01],\n",
       "        [ 2.77850909e-01, -1.83610609e-01,  1.78742752e-01,\n",
       "          2.02009014e-01, -3.68167612e-01, -6.09415995e-02,\n",
       "          3.50044198e-01, -3.28924604e-01],\n",
       "        [ 3.89241957e-01, -8.83633643e-02, -3.09865916e-01,\n",
       "          1.30407068e-01, -2.35713573e-01, -2.25530791e-01,\n",
       "         -3.23546812e-01, -2.49221682e-01],\n",
       "        [ 2.48079666e-01,  1.13273331e-01, -5.93081337e-01,\n",
       "          2.91702564e-01, -2.99882485e-01, -6.54525388e-02,\n",
       "         -2.92762484e-01, -5.12412146e-02],\n",
       "        [ 1.08314706e-01, -7.96246376e-02, -3.86713478e-01,\n",
       "          3.69181689e-01, -2.49453064e-01,  2.70044287e-01,\n",
       "          2.36178500e-01, -2.87623698e-01],\n",
       "        [-1.23337954e-01,  2.77253434e-01,  7.55299540e-02,\n",
       "         -1.23789900e-01, -1.87267123e-02, -2.53521134e-01,\n",
       "          2.55256230e-01, -2.95458855e-01],\n",
       "        [ 1.26236216e-01, -8.42389749e-02, -2.08439692e-01,\n",
       "          1.70471366e-01, -2.96486897e-01,  2.03124926e-01,\n",
       "         -3.04982258e-02,  1.53903700e-01],\n",
       "        [-3.16689762e-01,  2.34830654e-01, -2.25877015e-01,\n",
       "          2.79911340e-04,  1.10511881e-01,  3.67326677e-01,\n",
       "          2.76923321e-01,  5.31836933e-02],\n",
       "        [-1.73176651e-01,  3.28885286e-01, -3.40543562e-03,\n",
       "         -3.52262009e-01, -1.15211977e-01,  2.26832982e-01,\n",
       "          3.37653495e-01, -1.06702695e-01],\n",
       "        [-1.37495914e-01, -2.61422992e-01,  5.24640129e-02,\n",
       "          3.22831070e-01, -1.80028306e-01, -1.09143188e-01,\n",
       "         -2.08535399e-01, -1.65797323e-01],\n",
       "        [ 1.70246178e-01,  1.44409316e-01, -4.39665807e-01,\n",
       "          4.35278558e-01,  4.35873763e-02, -2.66228337e-01,\n",
       "         -3.42255482e-01,  1.99542172e-01]]),\n",
       " array([[ 0.43056806],\n",
       "        [ 0.43778799],\n",
       "        [-1.39393994],\n",
       "        [ 0.51023482],\n",
       "        [-0.07502977],\n",
       "        [-0.05225056],\n",
       "        [ 0.30858482],\n",
       "        [ 0.11291856]])]"
      ]
     },
     "execution_count": 9,
     "metadata": {},
     "output_type": "execute_result"
    }
   ],
   "source": [
    "classifier_norm_1.coefs_"
   ]
  }
 ],
 "metadata": {
  "kernelspec": {
   "display_name": "Python 3",
   "language": "python",
   "name": "python3"
  },
  "language_info": {
   "codemirror_mode": {
    "name": "ipython",
    "version": 3
   },
   "file_extension": ".py",
   "mimetype": "text/x-python",
   "name": "python",
   "nbconvert_exporter": "python",
   "pygments_lexer": "ipython3",
   "version": "3.8.3"
  }
 },
 "nbformat": 4,
 "nbformat_minor": 4
}
