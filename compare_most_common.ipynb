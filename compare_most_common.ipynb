{
 "cells": [
  {
   "cell_type": "code",
   "execution_count": 39,
   "metadata": {},
   "outputs": [],
   "source": [
    "import ast\n",
    "with open('1000_most_common_kmers.py', 'r') as f:\n",
    "    most_common = ast.literal_eval(f.read())"
   ]
  },
  {
   "cell_type": "code",
   "execution_count": 40,
   "metadata": {},
   "outputs": [],
   "source": [
    "# Convert into list of kmers separated by space\n",
    "temp = []\n",
    "for kmc in most_common:\n",
    "    temp.append(kmc[0])\n",
    "kms_str = str(temp).replace(',', \"\").replace(\"'\", '')[1:-1]"
   ]
  },
  {
   "cell_type": "code",
   "execution_count": 68,
   "metadata": {},
   "outputs": [
    {
     "name": "stdout",
     "output_type": "stream",
     "text": [
      "Queried 02H043...\n",
      "Queried 03H090...\n",
      "Queried 04H120...\n",
      "Queried 05H072...\n",
      "Done with the queries!\n"
     ]
    }
   ],
   "source": [
    "import subprocess\n",
    "files = [\"02H043\", \"03H090\", \"04H120\", \"05H072\"] # a few random patient IDs\n",
    "profiles = []\n",
    "for f in files:\n",
    "    jf = f\"/u/leucegene/data/rnaseq/jellyfish/EXT001/{f}/2.2.3/kmers.k31.CL2.jf\"\n",
    "    # Query for specific kmer counts from each file\n",
    "    cmd = f\"jellyfish query {jf} {kms_str}\"\n",
    "    output = subprocess.check_output(cmd, shell=True).decode(\"utf-8\")\n",
    "    # Convert to object\n",
    "    profile = {}\n",
    "    for line in output.splitlines():\n",
    "        km, cnt = line.split()\n",
    "        profile[km] = int(cnt)\n",
    "    profiles.append(profile)\n",
    "    print(f\"Queried {f}...\")\n",
    "print(\"Done with the queries!\")"
   ]
  },
  {
   "cell_type": "code",
   "execution_count": 102,
   "metadata": {},
   "outputs": [
    {
     "data": {
      "image/png": "[encoded data removed]",
      "text/plain": [
       "<Figure size 432x288 with 4 Axes>"
      ]
     },
     "metadata": {
      "needs_background": "light"
     },
     "output_type": "display_data"
    }
   ],
   "source": [
    "# Make distribution graph of kmer frequencies\n",
    "import matplotlib.pyplot as plt\n",
    "fig, ((ax1, ax2), (ax3, ax4)) = plt.subplots(2, 2)\n",
    "i = 0\n",
    "axes = [ax1, ax2, ax3, ax4]\n",
    "for profile in profiles:\n",
    "    axes[i].hist(list(profile.values()), bins=100, range=(0, 40000))\n",
    "    i += 1\n",
    "plt.show()"
   ]
  },
  {
   "cell_type": "code",
   "execution_count": 104,
   "metadata": {},
   "outputs": [
    {
     "data": {
      "image/png": "[encoded data removed]",
      "text/plain": [
       "<Figure size 432x288 with 1 Axes>"
      ]
     },
     "metadata": {
      "needs_background": "light"
     },
     "output_type": "display_data"
    }
   ],
   "source": [
    "# Visually compare with distribution of test patient\n",
    "test = [kmc[1] for kmc in most_common]\n",
    "plt.hist(test, bins=100)\n",
    "plt.show()"
   ]
  }
 ],
 "metadata": {
  "kernelspec": {
   "display_name": "Python 3",
   "language": "python",
   "name": "python3"
  },
  "language_info": {
   "codemirror_mode": {
    "name": "ipython",
    "version": 3
   },
   "file_extension": ".py",
   "mimetype": "text/x-python",
   "name": "python",
   "nbconvert_exporter": "python",
   "pygments_lexer": "ipython3",
   "version": "3.8.3"
  }
 },
 "nbformat": 4,
 "nbformat_minor": 4
}
