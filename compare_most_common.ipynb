{
 "cells": [
  {
   "cell_type": "code",
   "execution_count": 30,
   "metadata": {},
   "outputs": [],
   "source": [
    "import matplotlib.pyplot as plt\n",
    "import ast\n",
    "import subprocess\n",
    "import random"
   ]
  },
  {
   "cell_type": "code",
   "execution_count": 3,
   "metadata": {},
   "outputs": [],
   "source": [
    "with open('data/1000_most_common_kmers.py', 'r') as f:\n",
    "    most_common = ast.literal_eval(f.read())"
   ]
  },
  {
   "cell_type": "code",
   "execution_count": 40,
   "metadata": {},
   "outputs": [],
   "source": [
    "# Convert into list of kmers separated by space\n",
    "temp = []\n",
    "for kmc in most_common:\n",
    "    temp.append(kmc[0])\n",
    "kms_str = str(temp).replace(',', \"\").replace(\"'\", '')[1:-1]"
   ]
  },
  {
   "cell_type": "code",
   "execution_count": 68,
   "metadata": {},
   "outputs": [
    {
     "name": "stdout",
     "output_type": "stream",
     "text": [
      "Queried 02H043...\n",
      "Queried 03H090...\n",
      "Queried 04H120...\n",
      "Queried 05H072...\n",
      "Done with the queries!\n"
     ]
    }
   ],
   "source": [
    "files = [\"02H043\", \"03H090\", \"04H120\", \"05H072\"] # a few random patient IDs\n",
    "profiles = []\n",
    "for f in files:\n",
    "    jf = f\"/u/leucegene/data/rnaseq/jellyfish/EXT001/{f}/2.2.3/kmers.k31.CL2.jf\"\n",
    "    # Query for specific kmer counts from each file\n",
    "    cmd = f\"jellyfish query {jf} {kms_str}\"\n",
    "    output = subprocess.check_output(cmd, shell=True).decode(\"utf-8\")\n",
    "    # Convert to object\n",
    "    profile = {}\n",
    "    for line in output.splitlines():\n",
    "        km, cnt = line.split()\n",
    "        profile[km] = int(cnt)\n",
    "    profiles.append(profile)\n",
    "    print(f\"Queried {f}...\")\n",
    "print(\"Done with the queries!\")"
   ]
  },
  {
   "cell_type": "code",
   "execution_count": 47,
   "metadata": {},
   "outputs": [],
   "source": [
    "def flatten2list(object):\n",
    "    # Flattens a nested collection object into a one dimensional list\n",
    "    gather = []\n",
    "    for item in object:\n",
    "        if isinstance(item, (list, tuple, set)):\n",
    "            gather.extend(flatten2list(item))            \n",
    "        else:\n",
    "            gather.append(item)\n",
    "    return gather"
   ]
  },
  {
   "cell_type": "code",
   "execution_count": 102,
   "metadata": {},
   "outputs": [
    {
     "data": {
      "image/png": "[encoded data removed]",
      "text/plain": [
       "<Figure size 432x288 with 4 Axes>"
      ]
     },
     "metadata": {
      "needs_background": "light"
     },
     "output_type": "display_data"
    }
   ],
   "source": [
    "# Make distribution graph of kmer frequencies\n",
    "fig, ((ax1, ax2), (ax3, ax4)) = plt.subplots(2, 2)\n",
    "i = 0\n",
    "axes = [ax1, ax2, ax3, ax4]\n",
    "for profile in profiles:\n",
    "    axes[i].hist(list(profile.values()), bins=100, range=(0, 40000))\n",
    "    i += 1\n",
    "plt.show()"
   ]
  },
  {
   "cell_type": "code",
   "execution_count": 104,
   "metadata": {},
   "outputs": [
    {
     "data": {
      "image/png": "[encoded data removed]",
      "text/plain": [
       "<Figure size 432x288 with 1 Axes>"
      ]
     },
     "metadata": {
      "needs_background": "light"
     },
     "output_type": "display_data"
    }
   ],
   "source": [
    "# Visually compare with distribution of test patient\n",
    "test = [kmc[1] for kmc in most_common]\n",
    "plt.hist(test, bins=100)\n",
    "plt.show()"
   ]
  },
  {
   "cell_type": "code",
   "execution_count": 52,
   "metadata": {},
   "outputs": [],
   "source": [
    "def query(patients, kms):\n",
    "    # Queries jellyfish files of given patients for given kmers\n",
    "    # kmers must be separated by spaces\n",
    "    out = []\n",
    "    for p in patients:\n",
    "        jf = f\"/u/leucegene/data/rnaseq/jellyfish/EXT001/{p}/2.2.3/kmers.k31.CL2.jf\"\n",
    "        cmd = f\"jellyfish query {jf} {kms}\"\n",
    "        output = subprocess.check_output(cmd, shell=True).decode(\"utf-8\")\n",
    "        patient_kms = {}\n",
    "        for line in output.splitlines():\n",
    "            km, cnt = line.split()\n",
    "            patient_kms[km] = int(cnt)\n",
    "        out.append(patient_kms)\n",
    "    return out"
   ]
  },
  {
   "cell_type": "code",
   "execution_count": 58,
   "metadata": {},
   "outputs": [],
   "source": [
    "# Query ALL patients for some particular kmer\n",
    "def query_particular(km):\n",
    "    with open(\"data/patient_list.txt\") as f:\n",
    "        patient_list = f.read().split()\n",
    "    data = []\n",
    "    return query(patient_list, km)"
   ]
  },
  {
   "cell_type": "code",
   "execution_count": 59,
   "metadata": {},
   "outputs": [],
   "source": [
    "def get_values(all_pts):\n",
    "    \"\"\"\n",
    "    Given the query output of all patients for a single kmer, returns only a list of integers to plot.\n",
    "    \"\"\"\n",
    "    return [list(i.values())[0] for i in all_pts]"
   ]
  },
  {
   "cell_type": "code",
   "execution_count": 79,
   "metadata": {},
   "outputs": [
    {
     "name": "stdout",
     "output_type": "stream",
     "text": [
      "Done with query 1...\n",
      "Done with query 2...\n",
      "Done with query 3...\n",
      "Done with query 4...\n",
      "Done with query 5...\n",
      "Done with query 6...\n",
      "Done with query 7...\n",
      "Done with query 8...\n",
      "Done with query 9...\n"
     ]
    },
    {
     "data": {
      "image/png": "[encoded data removed]",
      "text/plain": [
       "<Figure size 432x288 with 9 Axes>"
      ]
     },
     "metadata": {
      "needs_background": "light"
     },
     "output_type": "display_data"
    }
   ],
   "source": [
    "# Picks 9 random kmers from the list of 1000, then query them across all patients & plot the distribution for each kmer\n",
    "fig, ax = plt.subplots(3, 3)\n",
    "ax = ax.reshape(-1).tolist()\n",
    "i = 0\n",
    "for axis in ax:\n",
    "    rdm = random.randint(0, 999)\n",
    "    km = most_common[rdm][0]\n",
    "    values = get_values(query_particular(km))\n",
    "    i += 1\n",
    "    print(f\"Done with query {i}...\")\n",
    "    axis.hist(values, bins=100, range=(0, 2000000))\n",
    "plt.show()"
   ]
  }
 ],
 "metadata": {
  "kernelspec": {
   "display_name": "Python 3",
   "language": "python",
   "name": "python3"
  },
  "language_info": {
   "codemirror_mode": {
    "name": "ipython",
    "version": 3
   },
   "file_extension": ".py",
   "mimetype": "text/x-python",
   "name": "python",
   "nbconvert_exporter": "python",
   "pygments_lexer": "ipython3",
   "version": "3.8.3"
  }
 },
 "nbformat": 4,
 "nbformat_minor": 4
}
